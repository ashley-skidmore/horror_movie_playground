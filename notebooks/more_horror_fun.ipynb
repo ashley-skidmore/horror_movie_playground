{
 "cells": [
  {
   "cell_type": "markdown",
   "id": "e090959b",
   "metadata": {},
   "source": [
    "# More Fun Exploring Horror Movie Data (1950-2022)"
   ]
  },
  {
   "cell_type": "markdown",
   "id": "671c03f2",
   "metadata": {},
   "source": [
    "## Imports"
   ]
  },
  {
   "cell_type": "code",
   "execution_count": 2,
   "id": "ac57896d",
   "metadata": {},
   "outputs": [],
   "source": [
    "import pandas as pd\n",
    "import matplotlib.pyplot as plt"
   ]
  },
  {
   "cell_type": "markdown",
   "id": "98d6a8f3",
   "metadata": {},
   "source": [
    "## Top Ranked Horror Movies"
   ]
  },
  {
   "cell_type": "markdown",
   "id": "e7844194",
   "metadata": {},
   "source": [
    "## Worst Ranked Horror Movies"
   ]
  },
  {
   "cell_type": "markdown",
   "id": "d7b660dc",
   "metadata": {},
   "source": [
    "## Top Earning Horror Movies"
   ]
  },
  {
   "cell_type": "code",
   "execution_count": 3,
   "id": "577c7e67",
   "metadata": {},
   "outputs": [],
   "source": [
    "#Look at your Kaggle notes about creating a column that displays the difference from the mean. Only this time you'll be calculating the difference between the budget and the revenue."
   ]
  },
  {
   "cell_type": "markdown",
   "id": "3522979d",
   "metadata": {},
   "source": [
    "## Have runtimes increased over the years?"
   ]
  },
  {
   "cell_type": "markdown",
   "id": "c7d89dec",
   "metadata": {},
   "source": [
    "## Hidden Gems"
   ]
  },
  {
   "cell_type": "code",
   "execution_count": 4,
   "id": "0802caae",
   "metadata": {},
   "outputs": [],
   "source": [
    "#High ratings but low vote counts"
   ]
  },
  {
   "cell_type": "markdown",
   "id": "83fd92a6",
   "metadata": {},
   "source": [
    "## Which movies have more than one title?"
   ]
  },
  {
   "cell_type": "markdown",
   "id": "8be22c2b",
   "metadata": {},
   "source": [
    "## Which horror movie was top rated the year you were born?"
   ]
  },
  {
   "cell_type": "code",
   "execution_count": 5,
   "id": "e0e14cfb",
   "metadata": {},
   "outputs": [],
   "source": [
    "#Show full info for top rated movie (note: will need to figure out how to skip showing columns with null values)\n",
    "#Then show the titles and ratings for the top 10 movies that year"
   ]
  }
 ],
 "metadata": {
  "kernelspec": {
   "display_name": "Python 3",
   "language": "python",
   "name": "python3"
  },
  "language_info": {
   "codemirror_mode": {
    "name": "ipython",
    "version": 3
   },
   "file_extension": ".py",
   "mimetype": "text/x-python",
   "name": "python",
   "nbconvert_exporter": "python",
   "pygments_lexer": "ipython3",
   "version": "3.13.3"
  }
 },
 "nbformat": 4,
 "nbformat_minor": 5
}
