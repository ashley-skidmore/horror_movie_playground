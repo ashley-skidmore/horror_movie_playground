{
 "cells": [
  {
   "cell_type": "markdown",
   "id": "c0f190cc",
   "metadata": {},
   "source": [
    "# EDA (Exploratory Data Analysis)\n",
    "## When performing EDA:\n",
    "1. Use head() and tail() to explore the first and last few rows. This gives us a snapshot of the data's structure.\n",
    "2. Look for nulls (.isnull.sum()) so we can decide whether to fill gaps, drop them, or handle them some other way.\n",
    "3. Check the shape (.shape) to see how many rows and columns are in the DataFrame. This can help when merging or transforming data since we can compare what we expect with what actually happens.\n",
    "4. Look at descriptive stats(.describe()) to get a quick understanding of the numerical data."
   ]
  },
  {
   "cell_type": "markdown",
   "id": "6ad806b1",
   "metadata": {},
   "source": [
    "#### Importing pandas under the alias pd"
   ]
  },
  {
   "cell_type": "code",
   "execution_count": 1,
   "id": "c1bb5345",
   "metadata": {},
   "outputs": [],
   "source": [
    "import pandas as pd"
   ]
  },
  {
   "cell_type": "markdown",
   "id": "716466f7",
   "metadata": {},
   "source": [
    "#### Creating a DataFrame"
   ]
  },
  {
   "cell_type": "code",
   "execution_count": 2,
   "id": "93a915c7",
   "metadata": {},
   "outputs": [
    {
     "name": "stdout",
     "output_type": "stream",
     "text": [
      "             Title  Year  IMDB Rating\n",
      "0      The Shining  1980          8.4\n",
      "1        The Thing  1982          8.2\n",
      "2  Rosemary's Baby  1968          8.0\n"
     ]
    }
   ],
   "source": [
    "data = {'Title': [\"The Shining\", \"The Thing\", \"Rosemary's Baby\"], 'Year': [1980, 1982, 1968], 'IMDB Rating': [8.4, 8.2, 8.0]}\n",
    "\n",
    "movie_df = pd.DataFrame(data)\n",
    "\n",
    "print(movie_df)"
   ]
  },
  {
   "cell_type": "markdown",
   "id": "721c25c6",
   "metadata": {},
   "source": [
    "#### Viewing the first few rows of a csv DataFrame\n",
    "Note: I can choose how many rows by passing that number as an argument in the head method"
   ]
  },
  {
   "cell_type": "code",
   "execution_count": 3,
   "id": "29465f47",
   "metadata": {},
   "outputs": [
    {
     "data": {
      "text/html": [
       "<div>\n",
       "<style scoped>\n",
       "    .dataframe tbody tr th:only-of-type {\n",
       "        vertical-align: middle;\n",
       "    }\n",
       "\n",
       "    .dataframe tbody tr th {\n",
       "        vertical-align: top;\n",
       "    }\n",
       "\n",
       "    .dataframe thead th {\n",
       "        text-align: right;\n",
       "    }\n",
       "</style>\n",
       "<table border=\"1\" class=\"dataframe\">\n",
       "  <thead>\n",
       "    <tr style=\"text-align: right;\">\n",
       "      <th></th>\n",
       "      <th>id</th>\n",
       "      <th>original_title</th>\n",
       "      <th>title</th>\n",
       "      <th>original_language</th>\n",
       "      <th>overview</th>\n",
       "      <th>tagline</th>\n",
       "      <th>release_date</th>\n",
       "      <th>poster_path</th>\n",
       "      <th>popularity</th>\n",
       "      <th>vote_count</th>\n",
       "      <th>vote_average</th>\n",
       "      <th>budget</th>\n",
       "      <th>revenue</th>\n",
       "      <th>runtime</th>\n",
       "      <th>status</th>\n",
       "      <th>adult</th>\n",
       "      <th>backdrop_path</th>\n",
       "      <th>genre_names</th>\n",
       "      <th>collection</th>\n",
       "      <th>collection_name</th>\n",
       "    </tr>\n",
       "  </thead>\n",
       "  <tbody>\n",
       "    <tr>\n",
       "      <th>0</th>\n",
       "      <td>760161</td>\n",
       "      <td>Orphan: First Kill</td>\n",
       "      <td>Orphan: First Kill</td>\n",
       "      <td>en</td>\n",
       "      <td>After escaping from an Estonian psychiatric fa...</td>\n",
       "      <td>There's always been something wrong with Esther.</td>\n",
       "      <td>2022-07-27</td>\n",
       "      <td>/pHkKbIRoCe7zIFvqan9LFSaQAde.jpg</td>\n",
       "      <td>5088.584</td>\n",
       "      <td>902</td>\n",
       "      <td>6.9</td>\n",
       "      <td>0</td>\n",
       "      <td>9572765</td>\n",
       "      <td>99</td>\n",
       "      <td>Released</td>\n",
       "      <td>False</td>\n",
       "      <td>/5GA3vV1aWWHTSDO5eno8V5zDo8r.jpg</td>\n",
       "      <td>Horror, Thriller</td>\n",
       "      <td>760193.0</td>\n",
       "      <td>Orphan Collection</td>\n",
       "    </tr>\n",
       "    <tr>\n",
       "      <th>1</th>\n",
       "      <td>760741</td>\n",
       "      <td>Beast</td>\n",
       "      <td>Beast</td>\n",
       "      <td>en</td>\n",
       "      <td>A recently widowed man and his two teenage dau...</td>\n",
       "      <td>Fight for family.</td>\n",
       "      <td>2022-08-11</td>\n",
       "      <td>/xIGr7UHsKf0URWmyyd5qFMAq4d8.jpg</td>\n",
       "      <td>2172.338</td>\n",
       "      <td>584</td>\n",
       "      <td>7.1</td>\n",
       "      <td>0</td>\n",
       "      <td>56000000</td>\n",
       "      <td>93</td>\n",
       "      <td>Released</td>\n",
       "      <td>False</td>\n",
       "      <td>/2k9tBql5GYH328Krj66tDT9LtFZ.jpg</td>\n",
       "      <td>Adventure, Drama, Horror</td>\n",
       "      <td>NaN</td>\n",
       "      <td>NaN</td>\n",
       "    </tr>\n",
       "    <tr>\n",
       "      <th>2</th>\n",
       "      <td>882598</td>\n",
       "      <td>Smile</td>\n",
       "      <td>Smile</td>\n",
       "      <td>en</td>\n",
       "      <td>After witnessing a bizarre, traumatic incident...</td>\n",
       "      <td>Once you see it, it’s too late.</td>\n",
       "      <td>2022-09-23</td>\n",
       "      <td>/hiaeZKzwsk4y4atFhmncO5KRxeT.jpg</td>\n",
       "      <td>1863.628</td>\n",
       "      <td>114</td>\n",
       "      <td>6.8</td>\n",
       "      <td>17000000</td>\n",
       "      <td>45000000</td>\n",
       "      <td>115</td>\n",
       "      <td>Released</td>\n",
       "      <td>False</td>\n",
       "      <td>/mVNPfpydornVe4H4UCIk7WevWjf.jpg</td>\n",
       "      <td>Horror, Mystery, Thriller</td>\n",
       "      <td>NaN</td>\n",
       "      <td>NaN</td>\n",
       "    </tr>\n",
       "    <tr>\n",
       "      <th>3</th>\n",
       "      <td>756999</td>\n",
       "      <td>The Black Phone</td>\n",
       "      <td>The Black Phone</td>\n",
       "      <td>en</td>\n",
       "      <td>Finney Blake, a shy but clever 13-year-old boy...</td>\n",
       "      <td>Never talk to strangers.</td>\n",
       "      <td>2022-06-22</td>\n",
       "      <td>/lr11mCT85T1JanlgjMuhs9nMht4.jpg</td>\n",
       "      <td>1071.398</td>\n",
       "      <td>2736</td>\n",
       "      <td>7.9</td>\n",
       "      <td>18800000</td>\n",
       "      <td>161000000</td>\n",
       "      <td>103</td>\n",
       "      <td>Released</td>\n",
       "      <td>False</td>\n",
       "      <td>/AfvIjhDu9p64jKcmohS4hsPG95Q.jpg</td>\n",
       "      <td>Horror, Thriller</td>\n",
       "      <td>NaN</td>\n",
       "      <td>NaN</td>\n",
       "    </tr>\n",
       "    <tr>\n",
       "      <th>4</th>\n",
       "      <td>772450</td>\n",
       "      <td>Presencias</td>\n",
       "      <td>Presences</td>\n",
       "      <td>es</td>\n",
       "      <td>A man who loses his wife and goes to seclude h...</td>\n",
       "      <td>NaN</td>\n",
       "      <td>2022-09-07</td>\n",
       "      <td>/dgDT3uol3mdvwEg0jt1ble3l9hw.jpg</td>\n",
       "      <td>1020.995</td>\n",
       "      <td>83</td>\n",
       "      <td>7.0</td>\n",
       "      <td>0</td>\n",
       "      <td>0</td>\n",
       "      <td>0</td>\n",
       "      <td>Released</td>\n",
       "      <td>False</td>\n",
       "      <td>/ojfzhdwRemcDt1I6pao6vVLw9AA.jpg</td>\n",
       "      <td>Horror</td>\n",
       "      <td>NaN</td>\n",
       "      <td>NaN</td>\n",
       "    </tr>\n",
       "  </tbody>\n",
       "</table>\n",
       "</div>"
      ],
      "text/plain": [
       "       id      original_title               title original_language  \\\n",
       "0  760161  Orphan: First Kill  Orphan: First Kill                en   \n",
       "1  760741               Beast               Beast                en   \n",
       "2  882598               Smile               Smile                en   \n",
       "3  756999     The Black Phone     The Black Phone                en   \n",
       "4  772450          Presencias           Presences                es   \n",
       "\n",
       "                                            overview  \\\n",
       "0  After escaping from an Estonian psychiatric fa...   \n",
       "1  A recently widowed man and his two teenage dau...   \n",
       "2  After witnessing a bizarre, traumatic incident...   \n",
       "3  Finney Blake, a shy but clever 13-year-old boy...   \n",
       "4  A man who loses his wife and goes to seclude h...   \n",
       "\n",
       "                                            tagline release_date  \\\n",
       "0  There's always been something wrong with Esther.   2022-07-27   \n",
       "1                                 Fight for family.   2022-08-11   \n",
       "2                   Once you see it, it’s too late.   2022-09-23   \n",
       "3                          Never talk to strangers.   2022-06-22   \n",
       "4                                               NaN   2022-09-07   \n",
       "\n",
       "                        poster_path  popularity  vote_count  vote_average  \\\n",
       "0  /pHkKbIRoCe7zIFvqan9LFSaQAde.jpg    5088.584         902           6.9   \n",
       "1  /xIGr7UHsKf0URWmyyd5qFMAq4d8.jpg    2172.338         584           7.1   \n",
       "2  /hiaeZKzwsk4y4atFhmncO5KRxeT.jpg    1863.628         114           6.8   \n",
       "3  /lr11mCT85T1JanlgjMuhs9nMht4.jpg    1071.398        2736           7.9   \n",
       "4  /dgDT3uol3mdvwEg0jt1ble3l9hw.jpg    1020.995          83           7.0   \n",
       "\n",
       "     budget    revenue  runtime    status  adult  \\\n",
       "0         0    9572765       99  Released  False   \n",
       "1         0   56000000       93  Released  False   \n",
       "2  17000000   45000000      115  Released  False   \n",
       "3  18800000  161000000      103  Released  False   \n",
       "4         0          0        0  Released  False   \n",
       "\n",
       "                      backdrop_path                genre_names  collection  \\\n",
       "0  /5GA3vV1aWWHTSDO5eno8V5zDo8r.jpg           Horror, Thriller    760193.0   \n",
       "1  /2k9tBql5GYH328Krj66tDT9LtFZ.jpg   Adventure, Drama, Horror         NaN   \n",
       "2  /mVNPfpydornVe4H4UCIk7WevWjf.jpg  Horror, Mystery, Thriller         NaN   \n",
       "3  /AfvIjhDu9p64jKcmohS4hsPG95Q.jpg           Horror, Thriller         NaN   \n",
       "4  /ojfzhdwRemcDt1I6pao6vVLw9AA.jpg                     Horror         NaN   \n",
       "\n",
       "     collection_name  \n",
       "0  Orphan Collection  \n",
       "1                NaN  \n",
       "2                NaN  \n",
       "3                NaN  \n",
       "4                NaN  "
      ]
     },
     "execution_count": 3,
     "metadata": {},
     "output_type": "execute_result"
    }
   ],
   "source": [
    "df = pd.read_csv('../data/horror_movies.csv')\n",
    "df.head()"
   ]
  },
  {
   "cell_type": "markdown",
   "id": "3ea0a030",
   "metadata": {},
   "source": [
    "#### Viewing the last few rows of a DataFrame"
   ]
  },
  {
   "cell_type": "code",
   "execution_count": 4,
   "id": "90e98efd",
   "metadata": {},
   "outputs": [
    {
     "data": {
      "text/html": [
       "<div>\n",
       "<style scoped>\n",
       "    .dataframe tbody tr th:only-of-type {\n",
       "        vertical-align: middle;\n",
       "    }\n",
       "\n",
       "    .dataframe tbody tr th {\n",
       "        vertical-align: top;\n",
       "    }\n",
       "\n",
       "    .dataframe thead th {\n",
       "        text-align: right;\n",
       "    }\n",
       "</style>\n",
       "<table border=\"1\" class=\"dataframe\">\n",
       "  <thead>\n",
       "    <tr style=\"text-align: right;\">\n",
       "      <th></th>\n",
       "      <th>id</th>\n",
       "      <th>original_title</th>\n",
       "      <th>title</th>\n",
       "      <th>original_language</th>\n",
       "      <th>overview</th>\n",
       "      <th>tagline</th>\n",
       "      <th>release_date</th>\n",
       "      <th>poster_path</th>\n",
       "      <th>popularity</th>\n",
       "      <th>vote_count</th>\n",
       "      <th>vote_average</th>\n",
       "      <th>budget</th>\n",
       "      <th>revenue</th>\n",
       "      <th>runtime</th>\n",
       "      <th>status</th>\n",
       "      <th>adult</th>\n",
       "      <th>backdrop_path</th>\n",
       "      <th>genre_names</th>\n",
       "      <th>collection</th>\n",
       "      <th>collection_name</th>\n",
       "    </tr>\n",
       "  </thead>\n",
       "  <tbody>\n",
       "    <tr>\n",
       "      <th>32535</th>\n",
       "      <td>1032201</td>\n",
       "      <td>Catch a Butcher</td>\n",
       "      <td>Catch a Butcher</td>\n",
       "      <td>en</td>\n",
       "      <td>In a maternity ward in nineteenth-century Indi...</td>\n",
       "      <td>NaN</td>\n",
       "      <td>2021-11-20</td>\n",
       "      <td>/4LHrYpe6bjiT8Wvkzl3269LIUZl.jpg</td>\n",
       "      <td>0.6</td>\n",
       "      <td>0</td>\n",
       "      <td>0.0</td>\n",
       "      <td>0</td>\n",
       "      <td>0</td>\n",
       "      <td>11</td>\n",
       "      <td>Released</td>\n",
       "      <td>False</td>\n",
       "      <td>NaN</td>\n",
       "      <td>Horror</td>\n",
       "      <td>NaN</td>\n",
       "      <td>NaN</td>\n",
       "    </tr>\n",
       "    <tr>\n",
       "      <th>32536</th>\n",
       "      <td>1032667</td>\n",
       "      <td>Shaye Saint John: The Triggers Compilation</td>\n",
       "      <td>Shaye Saint John: The Triggers Compilation</td>\n",
       "      <td>en</td>\n",
       "      <td>A bizarre mix of early Tod Hayne's and Phyllis...</td>\n",
       "      <td>\"Just keep in mind, that you'll be trying to s...</td>\n",
       "      <td>2006-10-30</td>\n",
       "      <td>/j1vWwxnTsoKjZFwJODiNHNS8GFK.jpg</td>\n",
       "      <td>0.6</td>\n",
       "      <td>0</td>\n",
       "      <td>0.0</td>\n",
       "      <td>0</td>\n",
       "      <td>0</td>\n",
       "      <td>92</td>\n",
       "      <td>Released</td>\n",
       "      <td>False</td>\n",
       "      <td>NaN</td>\n",
       "      <td>Fantasy, Horror</td>\n",
       "      <td>NaN</td>\n",
       "      <td>NaN</td>\n",
       "    </tr>\n",
       "    <tr>\n",
       "      <th>32537</th>\n",
       "      <td>1032890</td>\n",
       "      <td>Welcome to the Occult Forest</td>\n",
       "      <td>Welcome to the Occult Forest</td>\n",
       "      <td>en</td>\n",
       "      <td>A washed up horror film director named Kôji Ku...</td>\n",
       "      <td>Murders, crimes, laughter, psychics, superhero...</td>\n",
       "      <td>2022-07-22</td>\n",
       "      <td>/ngFyxdliPZrG3Qra7tW3LbWksFd.jpg</td>\n",
       "      <td>0.6</td>\n",
       "      <td>0</td>\n",
       "      <td>0.0</td>\n",
       "      <td>0</td>\n",
       "      <td>0</td>\n",
       "      <td>141</td>\n",
       "      <td>Released</td>\n",
       "      <td>False</td>\n",
       "      <td>/s8Kpai084gCgQlsT3bpaEYuJmDc.jpg</td>\n",
       "      <td>Comedy, Drama, Horror</td>\n",
       "      <td>NaN</td>\n",
       "      <td>NaN</td>\n",
       "    </tr>\n",
       "    <tr>\n",
       "      <th>32538</th>\n",
       "      <td>1033052</td>\n",
       "      <td>The Mean One</td>\n",
       "      <td>The Mean One</td>\n",
       "      <td>en</td>\n",
       "      <td>The Mean One is a hairy, green-skinned grump i...</td>\n",
       "      <td>NaN</td>\n",
       "      <td>2022-12-15</td>\n",
       "      <td>NaN</td>\n",
       "      <td>0.0</td>\n",
       "      <td>0</td>\n",
       "      <td>0.0</td>\n",
       "      <td>0</td>\n",
       "      <td>0</td>\n",
       "      <td>0</td>\n",
       "      <td>Post Production</td>\n",
       "      <td>False</td>\n",
       "      <td>NaN</td>\n",
       "      <td>Horror</td>\n",
       "      <td>NaN</td>\n",
       "      <td>NaN</td>\n",
       "    </tr>\n",
       "    <tr>\n",
       "      <th>32539</th>\n",
       "      <td>1033095</td>\n",
       "      <td>Secret Formula</td>\n",
       "      <td>Secret Formula</td>\n",
       "      <td>en</td>\n",
       "      <td>NaN</td>\n",
       "      <td>NaN</td>\n",
       "      <td>2020-12-06</td>\n",
       "      <td>/5GTTNqHwXfqqnBPrZAv0DVoWfjr.jpg</td>\n",
       "      <td>0.0</td>\n",
       "      <td>0</td>\n",
       "      <td>0.0</td>\n",
       "      <td>0</td>\n",
       "      <td>0</td>\n",
       "      <td>0</td>\n",
       "      <td>Released</td>\n",
       "      <td>False</td>\n",
       "      <td>NaN</td>\n",
       "      <td>Animation, Horror</td>\n",
       "      <td>NaN</td>\n",
       "      <td>NaN</td>\n",
       "    </tr>\n",
       "  </tbody>\n",
       "</table>\n",
       "</div>"
      ],
      "text/plain": [
       "            id                              original_title  \\\n",
       "32535  1032201                             Catch a Butcher   \n",
       "32536  1032667  Shaye Saint John: The Triggers Compilation   \n",
       "32537  1032890                Welcome to the Occult Forest   \n",
       "32538  1033052                                The Mean One   \n",
       "32539  1033095                              Secret Formula   \n",
       "\n",
       "                                            title original_language  \\\n",
       "32535                             Catch a Butcher                en   \n",
       "32536  Shaye Saint John: The Triggers Compilation                en   \n",
       "32537                Welcome to the Occult Forest                en   \n",
       "32538                                The Mean One                en   \n",
       "32539                              Secret Formula                en   \n",
       "\n",
       "                                                overview  \\\n",
       "32535  In a maternity ward in nineteenth-century Indi...   \n",
       "32536  A bizarre mix of early Tod Hayne's and Phyllis...   \n",
       "32537  A washed up horror film director named Kôji Ku...   \n",
       "32538  The Mean One is a hairy, green-skinned grump i...   \n",
       "32539                                                NaN   \n",
       "\n",
       "                                                 tagline release_date  \\\n",
       "32535                                                NaN   2021-11-20   \n",
       "32536  \"Just keep in mind, that you'll be trying to s...   2006-10-30   \n",
       "32537  Murders, crimes, laughter, psychics, superhero...   2022-07-22   \n",
       "32538                                                NaN   2022-12-15   \n",
       "32539                                                NaN   2020-12-06   \n",
       "\n",
       "                            poster_path  popularity  vote_count  vote_average  \\\n",
       "32535  /4LHrYpe6bjiT8Wvkzl3269LIUZl.jpg         0.6           0           0.0   \n",
       "32536  /j1vWwxnTsoKjZFwJODiNHNS8GFK.jpg         0.6           0           0.0   \n",
       "32537  /ngFyxdliPZrG3Qra7tW3LbWksFd.jpg         0.6           0           0.0   \n",
       "32538                               NaN         0.0           0           0.0   \n",
       "32539  /5GTTNqHwXfqqnBPrZAv0DVoWfjr.jpg         0.0           0           0.0   \n",
       "\n",
       "       budget  revenue  runtime           status  adult  \\\n",
       "32535       0        0       11         Released  False   \n",
       "32536       0        0       92         Released  False   \n",
       "32537       0        0      141         Released  False   \n",
       "32538       0        0        0  Post Production  False   \n",
       "32539       0        0        0         Released  False   \n",
       "\n",
       "                          backdrop_path            genre_names  collection  \\\n",
       "32535                               NaN                 Horror         NaN   \n",
       "32536                               NaN        Fantasy, Horror         NaN   \n",
       "32537  /s8Kpai084gCgQlsT3bpaEYuJmDc.jpg  Comedy, Drama, Horror         NaN   \n",
       "32538                               NaN                 Horror         NaN   \n",
       "32539                               NaN      Animation, Horror         NaN   \n",
       "\n",
       "      collection_name  \n",
       "32535             NaN  \n",
       "32536             NaN  \n",
       "32537             NaN  \n",
       "32538             NaN  \n",
       "32539             NaN  "
      ]
     },
     "execution_count": 4,
     "metadata": {},
     "output_type": "execute_result"
    }
   ],
   "source": [
    "df.tail()"
   ]
  },
  {
   "cell_type": "markdown",
   "id": "dc0392f5",
   "metadata": {},
   "source": [
    "#### DataFrame summary"
   ]
  },
  {
   "cell_type": "code",
   "execution_count": 5,
   "id": "2959ad05",
   "metadata": {},
   "outputs": [
    {
     "name": "stdout",
     "output_type": "stream",
     "text": [
      "<class 'pandas.core.frame.DataFrame'>\n",
      "RangeIndex: 32540 entries, 0 to 32539\n",
      "Data columns (total 20 columns):\n",
      " #   Column             Non-Null Count  Dtype  \n",
      "---  ------             --------------  -----  \n",
      " 0   id                 32540 non-null  int64  \n",
      " 1   original_title     32540 non-null  object \n",
      " 2   title              32540 non-null  object \n",
      " 3   original_language  32540 non-null  object \n",
      " 4   overview           31254 non-null  object \n",
      " 5   tagline            12706 non-null  object \n",
      " 6   release_date       32540 non-null  object \n",
      " 7   poster_path        28066 non-null  object \n",
      " 8   popularity         32540 non-null  float64\n",
      " 9   vote_count         32540 non-null  int64  \n",
      " 10  vote_average       32540 non-null  float64\n",
      " 11  budget             32540 non-null  int64  \n",
      " 12  revenue            32540 non-null  int64  \n",
      " 13  runtime            32540 non-null  int64  \n",
      " 14  status             32540 non-null  object \n",
      " 15  adult              32540 non-null  bool   \n",
      " 16  backdrop_path      13545 non-null  object \n",
      " 17  genre_names        32540 non-null  object \n",
      " 18  collection         2306 non-null   float64\n",
      " 19  collection_name    2306 non-null   object \n",
      "dtypes: bool(1), float64(3), int64(5), object(11)\n",
      "memory usage: 4.7+ MB\n"
     ]
    }
   ],
   "source": [
    "df.info()"
   ]
  },
  {
   "cell_type": "markdown",
   "id": "cedd76ee",
   "metadata": {},
   "source": [
    "#### Getting basic statistics from DataFrame\n",
    "\n",
    "Benefits:\n",
    "- Quick snapshot\n",
    "- Guides further analysis\n",
    "- Supports data cleaning\n",
    "- Informs visualization choices"
   ]
  },
  {
   "cell_type": "code",
   "execution_count": 6,
   "id": "f76f423a",
   "metadata": {},
   "outputs": [
    {
     "name": "stdout",
     "output_type": "stream",
     "text": [
      "Here's the numerical data:\n",
      "                 id    popularity    vote_count  vote_average        budget  \\\n",
      "count  3.254000e+04  32540.000000  32540.000000  32540.000000  3.254000e+04   \n",
      "mean   4.459108e+05      4.013456     62.691487      3.335728  5.431266e+05   \n",
      "std    3.057447e+05     37.513472    420.887474      2.876002  4.542668e+06   \n",
      "min    1.700000e+01      0.000000      0.000000      0.000000  0.000000e+00   \n",
      "25%    1.464948e+05      0.600000      0.000000      0.000000  0.000000e+00   \n",
      "50%    4.265210e+05      0.840000      2.000000      4.000000  0.000000e+00   \n",
      "75%    7.075340e+05      2.243250     11.000000      5.700000  0.000000e+00   \n",
      "max    1.033095e+06   5088.584000  16900.000000     10.000000  2.000000e+08   \n",
      "\n",
      "            revenue       runtime    collection  \n",
      "count  3.254000e+04  32540.000000  2.306000e+03  \n",
      "mean   1.349747e+06     62.142901  4.815349e+05  \n",
      "std    1.443048e+07     40.998527  3.244982e+05  \n",
      "min    0.000000e+00      0.000000  6.560000e+02  \n",
      "25%    0.000000e+00     14.000000  1.554210e+05  \n",
      "50%    0.000000e+00     80.000000  4.712590e+05  \n",
      "75%    0.000000e+00     91.000000  7.590672e+05  \n",
      "max    7.018426e+08    683.000000  1.033032e+06  \n",
      "\n",
      "And here's all the data:\n",
      "                  id original_title  title original_language  \\\n",
      "count   3.254000e+04          32540  32540             32540   \n",
      "unique           NaN          30296  29563                97   \n",
      "top              NaN           Prey   Prey                en   \n",
      "freq             NaN             11     14             21923   \n",
      "mean    4.459108e+05            NaN    NaN               NaN   \n",
      "std     3.057447e+05            NaN    NaN               NaN   \n",
      "min     1.700000e+01            NaN    NaN               NaN   \n",
      "25%     1.464948e+05            NaN    NaN               NaN   \n",
      "50%     4.265210e+05            NaN    NaN               NaN   \n",
      "75%     7.075340e+05            NaN    NaN               NaN   \n",
      "max     1.033095e+06            NaN    NaN               NaN   \n",
      "\n",
      "                  overview                                          tagline  \\\n",
      "count                31254                                            12706   \n",
      "unique               31020                                            12514   \n",
      "top     No overview found.  Can you face the truth reflected by the camera?   \n",
      "freq                    93                                               13   \n",
      "mean                   NaN                                              NaN   \n",
      "std                    NaN                                              NaN   \n",
      "min                    NaN                                              NaN   \n",
      "25%                    NaN                                              NaN   \n",
      "50%                    NaN                                              NaN   \n",
      "75%                    NaN                                              NaN   \n",
      "max                    NaN                                              NaN   \n",
      "\n",
      "       release_date                       poster_path    popularity  \\\n",
      "count         32540                             28066  32540.000000   \n",
      "unique        10999                             28048           NaN   \n",
      "top      1989-01-01  /859NRz2v0OMXAXzUDtHTHtjSfhu.jpg           NaN   \n",
      "freq            152                                 3           NaN   \n",
      "mean            NaN                               NaN      4.013456   \n",
      "std             NaN                               NaN     37.513472   \n",
      "min             NaN                               NaN      0.000000   \n",
      "25%             NaN                               NaN      0.600000   \n",
      "50%             NaN                               NaN      0.840000   \n",
      "75%             NaN                               NaN      2.243250   \n",
      "max             NaN                               NaN   5088.584000   \n",
      "\n",
      "          vote_count  vote_average        budget       revenue       runtime  \\\n",
      "count   32540.000000  32540.000000  3.254000e+04  3.254000e+04  32540.000000   \n",
      "unique           NaN           NaN           NaN           NaN           NaN   \n",
      "top              NaN           NaN           NaN           NaN           NaN   \n",
      "freq             NaN           NaN           NaN           NaN           NaN   \n",
      "mean       62.691487      3.335728  5.431266e+05  1.349747e+06     62.142901   \n",
      "std       420.887474      2.876002  4.542668e+06  1.443048e+07     40.998527   \n",
      "min         0.000000      0.000000  0.000000e+00  0.000000e+00      0.000000   \n",
      "25%         0.000000      0.000000  0.000000e+00  0.000000e+00     14.000000   \n",
      "50%         2.000000      4.000000  0.000000e+00  0.000000e+00     80.000000   \n",
      "75%        11.000000      5.700000  0.000000e+00  0.000000e+00     91.000000   \n",
      "max     16900.000000     10.000000  2.000000e+08  7.018426e+08    683.000000   \n",
      "\n",
      "          status  adult                     backdrop_path genre_names  \\\n",
      "count      32540  32540                             13545       32540   \n",
      "unique         4      1                             13536         772   \n",
      "top     Released  False  /vpkZzt74LrAiCsrUs3Wz28Zl9Cx.jpg      Horror   \n",
      "freq       32405  32540                                 3       12463   \n",
      "mean         NaN    NaN                               NaN         NaN   \n",
      "std          NaN    NaN                               NaN         NaN   \n",
      "min          NaN    NaN                               NaN         NaN   \n",
      "25%          NaN    NaN                               NaN         NaN   \n",
      "50%          NaN    NaN                               NaN         NaN   \n",
      "75%          NaN    NaN                               NaN         NaN   \n",
      "max          NaN    NaN                               NaN         NaN   \n",
      "\n",
      "          collection                collection_name  \n",
      "count   2.306000e+03                           2306  \n",
      "unique           NaN                            815  \n",
      "top              NaN  Honto Ni Atta! Noroi no Video  \n",
      "freq             NaN                             63  \n",
      "mean    4.815349e+05                            NaN  \n",
      "std     3.244982e+05                            NaN  \n",
      "min     6.560000e+02                            NaN  \n",
      "25%     1.554210e+05                            NaN  \n",
      "50%     4.712590e+05                            NaN  \n",
      "75%     7.590672e+05                            NaN  \n",
      "max     1.033032e+06                            NaN  \n"
     ]
    }
   ],
   "source": [
    "print(\"Here's the numerical data:\")\n",
    "print(df.describe())\n",
    "\n",
    "print(\"\\nAnd here's all the data:\")\n",
    "print(df.describe(include='all'))"
   ]
  },
  {
   "cell_type": "markdown",
   "id": "c57530a5",
   "metadata": {},
   "source": [
    "#### Filtering the results from one column of the DataFrame and displaying the first few results\n",
    "Runtimes over 2 hours (>120 minutes)"
   ]
  },
  {
   "cell_type": "code",
   "execution_count": 7,
   "id": "062b34d6",
   "metadata": {},
   "outputs": [
    {
     "data": {
      "text/html": [
       "<div>\n",
       "<style scoped>\n",
       "    .dataframe tbody tr th:only-of-type {\n",
       "        vertical-align: middle;\n",
       "    }\n",
       "\n",
       "    .dataframe tbody tr th {\n",
       "        vertical-align: top;\n",
       "    }\n",
       "\n",
       "    .dataframe thead th {\n",
       "        text-align: right;\n",
       "    }\n",
       "</style>\n",
       "<table border=\"1\" class=\"dataframe\">\n",
       "  <thead>\n",
       "    <tr style=\"text-align: right;\">\n",
       "      <th></th>\n",
       "      <th>id</th>\n",
       "      <th>original_title</th>\n",
       "      <th>title</th>\n",
       "      <th>original_language</th>\n",
       "      <th>overview</th>\n",
       "      <th>tagline</th>\n",
       "      <th>release_date</th>\n",
       "      <th>poster_path</th>\n",
       "      <th>popularity</th>\n",
       "      <th>vote_count</th>\n",
       "      <th>vote_average</th>\n",
       "      <th>budget</th>\n",
       "      <th>revenue</th>\n",
       "      <th>runtime</th>\n",
       "      <th>status</th>\n",
       "      <th>adult</th>\n",
       "      <th>backdrop_path</th>\n",
       "      <th>genre_names</th>\n",
       "      <th>collection</th>\n",
       "      <th>collection_name</th>\n",
       "    </tr>\n",
       "  </thead>\n",
       "  <tbody>\n",
       "    <tr>\n",
       "      <th>7</th>\n",
       "      <td>762504</td>\n",
       "      <td>Nope</td>\n",
       "      <td>Nope</td>\n",
       "      <td>en</td>\n",
       "      <td>Residents in a lonely gulch of inland Californ...</td>\n",
       "      <td>What’s a bad miracle?</td>\n",
       "      <td>2022-07-20</td>\n",
       "      <td>/AcKVlWaNVVVFQwro3nLXqPljcYA.jpg</td>\n",
       "      <td>733.112</td>\n",
       "      <td>1684</td>\n",
       "      <td>7.0</td>\n",
       "      <td>68000000</td>\n",
       "      <td>170800000</td>\n",
       "      <td>130</td>\n",
       "      <td>Released</td>\n",
       "      <td>False</td>\n",
       "      <td>/xVbppM1xgbskOKgOuV8fbWBWHtt.jpg</td>\n",
       "      <td>Horror, Mystery, Science Fiction, Thriller</td>\n",
       "      <td>NaN</td>\n",
       "      <td>NaN</td>\n",
       "    </tr>\n",
       "    <tr>\n",
       "      <th>30</th>\n",
       "      <td>21208</td>\n",
       "      <td>Orphan</td>\n",
       "      <td>Orphan</td>\n",
       "      <td>en</td>\n",
       "      <td>After losing their baby, a married couple adop...</td>\n",
       "      <td>There's something wrong with Esther.</td>\n",
       "      <td>2009-07-24</td>\n",
       "      <td>/lCGpOgoTOGLtZnBiGY9HRg5Xnjd.jpg</td>\n",
       "      <td>265.858</td>\n",
       "      <td>4403</td>\n",
       "      <td>7.0</td>\n",
       "      <td>20000000</td>\n",
       "      <td>77912251</td>\n",
       "      <td>123</td>\n",
       "      <td>Released</td>\n",
       "      <td>False</td>\n",
       "      <td>/blJVWug8FJggb9gs6NuooyOWBTP.jpg</td>\n",
       "      <td>Horror, Mystery, Thriller</td>\n",
       "      <td>760193.0</td>\n",
       "      <td>Orphan Collection</td>\n",
       "    </tr>\n",
       "    <tr>\n",
       "      <th>41</th>\n",
       "      <td>474350</td>\n",
       "      <td>It Chapter Two</td>\n",
       "      <td>It Chapter Two</td>\n",
       "      <td>en</td>\n",
       "      <td>27 years after overcoming the malevolent super...</td>\n",
       "      <td>You'll Float Again</td>\n",
       "      <td>2019-09-04</td>\n",
       "      <td>/zfE0R94v1E8cuKAerbskfD3VfUt.jpg</td>\n",
       "      <td>230.451</td>\n",
       "      <td>7221</td>\n",
       "      <td>6.9</td>\n",
       "      <td>79000000</td>\n",
       "      <td>473122525</td>\n",
       "      <td>170</td>\n",
       "      <td>Released</td>\n",
       "      <td>False</td>\n",
       "      <td>/8moTOzunF7p40oR5XhlDvJckOSW.jpg</td>\n",
       "      <td>Fantasy, Horror</td>\n",
       "      <td>477962.0</td>\n",
       "      <td>It Collection</td>\n",
       "    </tr>\n",
       "    <tr>\n",
       "      <th>77</th>\n",
       "      <td>259693</td>\n",
       "      <td>The Conjuring 2</td>\n",
       "      <td>The Conjuring 2</td>\n",
       "      <td>en</td>\n",
       "      <td>Lorraine and Ed Warren travel to north London ...</td>\n",
       "      <td>The next true story from the case files of Ed ...</td>\n",
       "      <td>2016-06-08</td>\n",
       "      <td>/zEqyD0SBt6HL7W9JQoWwtd5Do1T.jpg</td>\n",
       "      <td>137.180</td>\n",
       "      <td>7061</td>\n",
       "      <td>7.3</td>\n",
       "      <td>40000000</td>\n",
       "      <td>320392818</td>\n",
       "      <td>134</td>\n",
       "      <td>Released</td>\n",
       "      <td>False</td>\n",
       "      <td>/4mfFtlGeInPrQVm1hpv7th02yjx.jpg</td>\n",
       "      <td>Horror, Thriller</td>\n",
       "      <td>313086.0</td>\n",
       "      <td>The Conjuring Collection</td>\n",
       "    </tr>\n",
       "    <tr>\n",
       "      <th>87</th>\n",
       "      <td>561</td>\n",
       "      <td>Constantine</td>\n",
       "      <td>Constantine</td>\n",
       "      <td>en</td>\n",
       "      <td>John Constantine has literally been to Hell an...</td>\n",
       "      <td>Hell wants him, Heaven won't take him, Earth n...</td>\n",
       "      <td>2005-02-08</td>\n",
       "      <td>/vPYgvd2MwHlxTamAOjwVQp4qs1W.jpg</td>\n",
       "      <td>119.677</td>\n",
       "      <td>5863</td>\n",
       "      <td>7.0</td>\n",
       "      <td>100000000</td>\n",
       "      <td>230884728</td>\n",
       "      <td>121</td>\n",
       "      <td>Released</td>\n",
       "      <td>False</td>\n",
       "      <td>/tIG8FwHRiHLOlWJdizp2oxdkSL2.jpg</td>\n",
       "      <td>Action, Fantasy, Horror</td>\n",
       "      <td>1025281.0</td>\n",
       "      <td>Constantine Collection</td>\n",
       "    </tr>\n",
       "  </tbody>\n",
       "</table>\n",
       "</div>"
      ],
      "text/plain": [
       "        id   original_title            title original_language  \\\n",
       "7   762504             Nope             Nope                en   \n",
       "30   21208           Orphan           Orphan                en   \n",
       "41  474350   It Chapter Two   It Chapter Two                en   \n",
       "77  259693  The Conjuring 2  The Conjuring 2                en   \n",
       "87     561      Constantine      Constantine                en   \n",
       "\n",
       "                                             overview  \\\n",
       "7   Residents in a lonely gulch of inland Californ...   \n",
       "30  After losing their baby, a married couple adop...   \n",
       "41  27 years after overcoming the malevolent super...   \n",
       "77  Lorraine and Ed Warren travel to north London ...   \n",
       "87  John Constantine has literally been to Hell an...   \n",
       "\n",
       "                                              tagline release_date  \\\n",
       "7                               What’s a bad miracle?   2022-07-20   \n",
       "30               There's something wrong with Esther.   2009-07-24   \n",
       "41                                 You'll Float Again   2019-09-04   \n",
       "77  The next true story from the case files of Ed ...   2016-06-08   \n",
       "87  Hell wants him, Heaven won't take him, Earth n...   2005-02-08   \n",
       "\n",
       "                         poster_path  popularity  vote_count  vote_average  \\\n",
       "7   /AcKVlWaNVVVFQwro3nLXqPljcYA.jpg     733.112        1684           7.0   \n",
       "30  /lCGpOgoTOGLtZnBiGY9HRg5Xnjd.jpg     265.858        4403           7.0   \n",
       "41  /zfE0R94v1E8cuKAerbskfD3VfUt.jpg     230.451        7221           6.9   \n",
       "77  /zEqyD0SBt6HL7W9JQoWwtd5Do1T.jpg     137.180        7061           7.3   \n",
       "87  /vPYgvd2MwHlxTamAOjwVQp4qs1W.jpg     119.677        5863           7.0   \n",
       "\n",
       "       budget    revenue  runtime    status  adult  \\\n",
       "7    68000000  170800000      130  Released  False   \n",
       "30   20000000   77912251      123  Released  False   \n",
       "41   79000000  473122525      170  Released  False   \n",
       "77   40000000  320392818      134  Released  False   \n",
       "87  100000000  230884728      121  Released  False   \n",
       "\n",
       "                       backdrop_path  \\\n",
       "7   /xVbppM1xgbskOKgOuV8fbWBWHtt.jpg   \n",
       "30  /blJVWug8FJggb9gs6NuooyOWBTP.jpg   \n",
       "41  /8moTOzunF7p40oR5XhlDvJckOSW.jpg   \n",
       "77  /4mfFtlGeInPrQVm1hpv7th02yjx.jpg   \n",
       "87  /tIG8FwHRiHLOlWJdizp2oxdkSL2.jpg   \n",
       "\n",
       "                                   genre_names  collection  \\\n",
       "7   Horror, Mystery, Science Fiction, Thriller         NaN   \n",
       "30                   Horror, Mystery, Thriller    760193.0   \n",
       "41                             Fantasy, Horror    477962.0   \n",
       "77                            Horror, Thriller    313086.0   \n",
       "87                     Action, Fantasy, Horror   1025281.0   \n",
       "\n",
       "             collection_name  \n",
       "7                        NaN  \n",
       "30         Orphan Collection  \n",
       "41             It Collection  \n",
       "77  The Conjuring Collection  \n",
       "87    Constantine Collection  "
      ]
     },
     "execution_count": 7,
     "metadata": {},
     "output_type": "execute_result"
    }
   ],
   "source": [
    "filtered_df = df[df['runtime'] > 120]\n",
    "filtered_df.head()"
   ]
  },
  {
   "cell_type": "markdown",
   "id": "8e46614b",
   "metadata": {},
   "source": [
    "#### Selecting a few columns from the DataFrame and displaying the first few results"
   ]
  },
  {
   "cell_type": "code",
   "execution_count": 8,
   "id": "edcf999f",
   "metadata": {},
   "outputs": [
    {
     "data": {
      "text/html": [
       "<div>\n",
       "<style scoped>\n",
       "    .dataframe tbody tr th:only-of-type {\n",
       "        vertical-align: middle;\n",
       "    }\n",
       "\n",
       "    .dataframe tbody tr th {\n",
       "        vertical-align: top;\n",
       "    }\n",
       "\n",
       "    .dataframe thead th {\n",
       "        text-align: right;\n",
       "    }\n",
       "</style>\n",
       "<table border=\"1\" class=\"dataframe\">\n",
       "  <thead>\n",
       "    <tr style=\"text-align: right;\">\n",
       "      <th></th>\n",
       "      <th>title</th>\n",
       "      <th>tagline</th>\n",
       "    </tr>\n",
       "  </thead>\n",
       "  <tbody>\n",
       "    <tr>\n",
       "      <th>0</th>\n",
       "      <td>Orphan: First Kill</td>\n",
       "      <td>There's always been something wrong with Esther.</td>\n",
       "    </tr>\n",
       "    <tr>\n",
       "      <th>1</th>\n",
       "      <td>Beast</td>\n",
       "      <td>Fight for family.</td>\n",
       "    </tr>\n",
       "    <tr>\n",
       "      <th>2</th>\n",
       "      <td>Smile</td>\n",
       "      <td>Once you see it, it’s too late.</td>\n",
       "    </tr>\n",
       "    <tr>\n",
       "      <th>3</th>\n",
       "      <td>The Black Phone</td>\n",
       "      <td>Never talk to strangers.</td>\n",
       "    </tr>\n",
       "    <tr>\n",
       "      <th>4</th>\n",
       "      <td>Presences</td>\n",
       "      <td>NaN</td>\n",
       "    </tr>\n",
       "  </tbody>\n",
       "</table>\n",
       "</div>"
      ],
      "text/plain": [
       "                title                                           tagline\n",
       "0  Orphan: First Kill  There's always been something wrong with Esther.\n",
       "1               Beast                                 Fight for family.\n",
       "2               Smile                   Once you see it, it’s too late.\n",
       "3     The Black Phone                          Never talk to strangers.\n",
       "4           Presences                                               NaN"
      ]
     },
     "execution_count": 8,
     "metadata": {},
     "output_type": "execute_result"
    }
   ],
   "source": [
    "selected_columns = df[['title', 'tagline']]\n",
    "selected_columns.head()"
   ]
  },
  {
   "cell_type": "markdown",
   "id": "8cb87177",
   "metadata": {},
   "source": [
    "#### Checking the shape of the DataFrame"
   ]
  },
  {
   "cell_type": "code",
   "execution_count": 9,
   "id": "15f52d2e",
   "metadata": {},
   "outputs": [
    {
     "data": {
      "text/plain": [
       "(32540, 20)"
      ]
     },
     "execution_count": 9,
     "metadata": {},
     "output_type": "execute_result"
    }
   ],
   "source": [
    "df.shape"
   ]
  },
  {
   "cell_type": "markdown",
   "id": "0bcfc679",
   "metadata": {},
   "source": [
    "#### Checking DataFrame column names"
   ]
  },
  {
   "cell_type": "code",
   "execution_count": 10,
   "id": "3bb61016",
   "metadata": {},
   "outputs": [
    {
     "data": {
      "text/plain": [
       "Index(['id', 'original_title', 'title', 'original_language', 'overview',\n",
       "       'tagline', 'release_date', 'poster_path', 'popularity', 'vote_count',\n",
       "       'vote_average', 'budget', 'revenue', 'runtime', 'status', 'adult',\n",
       "       'backdrop_path', 'genre_names', 'collection', 'collection_name'],\n",
       "      dtype='object')"
      ]
     },
     "execution_count": 10,
     "metadata": {},
     "output_type": "execute_result"
    }
   ],
   "source": [
    "df.columns"
   ]
  },
  {
   "cell_type": "markdown",
   "id": "af46b69b",
   "metadata": {},
   "source": [
    "#### Finding null values"
   ]
  },
  {
   "cell_type": "code",
   "execution_count": 11,
   "id": "04e36202",
   "metadata": {},
   "outputs": [
    {
     "name": "stdout",
     "output_type": "stream",
     "text": [
      "null values in the entire DataFrame:\n",
      "id                       0\n",
      "original_title           0\n",
      "title                    0\n",
      "original_language        0\n",
      "overview              1286\n",
      "tagline              19834\n",
      "release_date             0\n",
      "poster_path           4474\n",
      "popularity               0\n",
      "vote_count               0\n",
      "vote_average             0\n",
      "budget                   0\n",
      "revenue                  0\n",
      "runtime                  0\n",
      "status                   0\n",
      "adult                    0\n",
      "backdrop_path        18995\n",
      "genre_names              0\n",
      "collection           30234\n",
      "collection_name      30234\n",
      "dtype: int64\n",
      "null values in the runtime column:\n",
      "0\n",
      "null values in the tagline column:\n",
      "19834\n"
     ]
    }
   ],
   "source": [
    "print(\"null values in the entire DataFrame:\")\n",
    "print(df.isnull().sum())\n",
    "\n",
    "print(\"null values in the runtime column:\")\n",
    "print(df['runtime'].isnull().sum())\n",
    "\n",
    "print(\"null values in the tagline column:\")\n",
    "print(df['tagline'].isnull().sum())"
   ]
  },
  {
   "cell_type": "markdown",
   "id": "7eefe75c",
   "metadata": {},
   "source": [
    "#### Checking data types\n",
    "Notes:\n",
    "- bool is a boolean\n",
    "- datetime is date-based data\n",
    "- float64 is a float\n",
    "- int64 is an integer\n",
    "- object typically indicates text data"
   ]
  },
  {
   "cell_type": "code",
   "execution_count": 12,
   "id": "f54e636c",
   "metadata": {},
   "outputs": [
    {
     "data": {
      "text/plain": [
       "id                     int64\n",
       "original_title        object\n",
       "title                 object\n",
       "original_language     object\n",
       "overview              object\n",
       "tagline               object\n",
       "release_date          object\n",
       "poster_path           object\n",
       "popularity           float64\n",
       "vote_count             int64\n",
       "vote_average         float64\n",
       "budget                 int64\n",
       "revenue                int64\n",
       "runtime                int64\n",
       "status                object\n",
       "adult                   bool\n",
       "backdrop_path         object\n",
       "genre_names           object\n",
       "collection           float64\n",
       "collection_name       object\n",
       "dtype: object"
      ]
     },
     "execution_count": 12,
     "metadata": {},
     "output_type": "execute_result"
    }
   ],
   "source": [
    "df.dtypes"
   ]
  },
  {
   "cell_type": "markdown",
   "id": "23db5d54",
   "metadata": {},
   "source": [
    "#### Converting release_date column type to datetime type"
   ]
  },
  {
   "cell_type": "code",
   "execution_count": 13,
   "id": "2abc2d2e",
   "metadata": {},
   "outputs": [
    {
     "name": "stdout",
     "output_type": "stream",
     "text": [
      "id                            int64\n",
      "original_title               object\n",
      "title                        object\n",
      "original_language            object\n",
      "overview                     object\n",
      "tagline                      object\n",
      "release_date         datetime64[ns]\n",
      "poster_path                  object\n",
      "popularity                  float64\n",
      "vote_count                    int64\n",
      "vote_average                float64\n",
      "budget                        int64\n",
      "revenue                       int64\n",
      "runtime                       int64\n",
      "status                       object\n",
      "adult                          bool\n",
      "backdrop_path                object\n",
      "genre_names                  object\n",
      "collection                  float64\n",
      "collection_name              object\n",
      "dtype: object\n"
     ]
    }
   ],
   "source": [
    "df['release_date'] = pd.to_datetime(df['release_date'])\n",
    "print(df.dtypes)"
   ]
  },
  {
   "cell_type": "markdown",
   "id": "b0d37a45",
   "metadata": {},
   "source": [
    "#### Finding the sum of a column"
   ]
  },
  {
   "cell_type": "code",
   "execution_count": 14,
   "id": "1f2a5643",
   "metadata": {},
   "outputs": [
    {
     "name": "stdout",
     "output_type": "stream",
     "text": [
      "2022130\n"
     ]
    }
   ],
   "source": [
    "print(df['runtime'].sum())"
   ]
  },
  {
   "cell_type": "markdown",
   "id": "ad441a20",
   "metadata": {},
   "source": [
    "#### Finding the mean of a column"
   ]
  },
  {
   "cell_type": "code",
   "execution_count": 15,
   "id": "bf5ebdf5",
   "metadata": {},
   "outputs": [
    {
     "data": {
      "text/plain": [
       "np.float64(4.013455593116165)"
      ]
     },
     "execution_count": 15,
     "metadata": {},
     "output_type": "execute_result"
    }
   ],
   "source": [
    "df['popularity'].mean()"
   ]
  },
  {
   "cell_type": "markdown",
   "id": "a3567c02",
   "metadata": {},
   "source": [
    "# Cleaning Data"
   ]
  },
  {
   "cell_type": "markdown",
   "id": "564e7402",
   "metadata": {},
   "source": [
    "#### Remove missing values when they represent a small, insignificant portion of the dataset or when those records are not essential for analysis."
   ]
  },
  {
   "cell_type": "code",
   "execution_count": 16,
   "id": "ada6b608",
   "metadata": {},
   "outputs": [
    {
     "name": "stdout",
     "output_type": "stream",
     "text": [
      "id                       0\n",
      "original_title           0\n",
      "title                    0\n",
      "original_language        0\n",
      "overview              1286\n",
      "tagline              19834\n",
      "release_date             0\n",
      "poster_path           4474\n",
      "popularity               0\n",
      "vote_count               0\n",
      "vote_average             0\n",
      "budget                   0\n",
      "revenue                  0\n",
      "runtime                  0\n",
      "status                   0\n",
      "adult                    0\n",
      "backdrop_path        18995\n",
      "genre_names              0\n",
      "collection           30234\n",
      "collection_name      30234\n",
      "dtype: int64\n",
      "           id                                     original_title  \\\n",
      "0      760161                                 Orphan: First Kill   \n",
      "6      717728                           Jeepers Creepers: Reborn   \n",
      "9      760104                                                  X   \n",
      "11     801071                     The Jack in the Box: Awakening   \n",
      "22     610253                                    Halloween Kills   \n",
      "...       ...                                                ...   \n",
      "29749  851499                                   ほんとにあった！呪いのビデオ20   \n",
      "29757  851513                                   ほんとにあった！呪いのビデオ27   \n",
      "30513  890574                              DV5: Cord Cutter Hell   \n",
      "32141  999929            The Beast From Twenty Zillion Years Ago   \n",
      "32142  999943  Night of the Beast (From Twenty Zillion Years ...   \n",
      "\n",
      "                                                   title original_language  \\\n",
      "0                                     Orphan: First Kill                en   \n",
      "6                               Jeepers Creepers: Reborn                en   \n",
      "9                                                      X                en   \n",
      "11                        The Jack in the Box: Awakening                en   \n",
      "22                                       Halloween Kills                en   \n",
      "...                                                  ...               ...   \n",
      "29749              Honto ni Atta! Noroi no Video Vol. 20                ja   \n",
      "29757                   Honto Ni Atta! Noroi No Video 27                ja   \n",
      "30513                              DV5: Cord Cutter Hell                en   \n",
      "32141            The Beast From Twenty Zillion Years Ago                en   \n",
      "32142  Night of the Beast (From Twenty Zillion Years ...                en   \n",
      "\n",
      "                                                overview  \\\n",
      "0      After escaping from an Estonian psychiatric fa...   \n",
      "6      Forced to travel with her boyfriend to a horro...   \n",
      "9      In 1979, a group of young filmmakers set out t...   \n",
      "11     When a vintage Jack-in-the-box is opened by a ...   \n",
      "22     The nightmare isn't over as unstoppable killer...   \n",
      "...                                                  ...   \n",
      "29749  20th entry in the popular \"Honto ni Atta. Noro...   \n",
      "29757  27th entry in the popular \"Honto ni Atta. Noro...   \n",
      "30513  Two mustachioed cord cutters inadvertently res...   \n",
      "32141  The story of a two-headed dinosaur and his str...   \n",
      "32142  A prehistoric two-headed dinosaur continues it...   \n",
      "\n",
      "                                                 tagline release_date  \\\n",
      "0       There's always been something wrong with Esther.   2022-07-27   \n",
      "6                                       Evil Rides Again   2022-09-15   \n",
      "9                         Dying to show you a good time.   2022-03-17   \n",
      "11         Once you open the box... you can't escape it.   2022-02-24   \n",
      "22                                    Evil dies tonight.   2021-10-14   \n",
      "...                                                  ...          ...   \n",
      "29749  Fear grows! Earthbound spirits, vengeful spiri...   2006-06-02   \n",
      "29757    Can you face the truth reflected by the camera?   2008-02-08   \n",
      "30513                             Death by subscription.   2021-04-10   \n",
      "32141    SHOT ON LOCATION IN THE SHADOW OF 3 MILE ISLAND   2012-07-03   \n",
      "32142                                SHOT IN SLOP-MOTION   2015-12-19   \n",
      "\n",
      "                            poster_path  popularity  vote_count  vote_average  \\\n",
      "0      /pHkKbIRoCe7zIFvqan9LFSaQAde.jpg    5088.584         902           6.9   \n",
      "6      /aGBuiirBIQ7o64FmJxO53eYDuro.jpg     821.605         125           5.8   \n",
      "9      /woTQx9Q4b8aO13jR9dsj8C9JESy.jpg     543.670        1035           6.8   \n",
      "11     /3Ib8vlWTrAKRrTWUrTrZPOMW4jp.jpg     527.579         157           6.4   \n",
      "22     /qmJGd5IfURq8iPQ9KF3les47vFS.jpg     315.027        1941           6.7   \n",
      "...                                 ...         ...         ...           ...   \n",
      "29749  /s4vpTA8VESNdnxW4puCbG7P0BWF.jpg       0.600           0           0.0   \n",
      "29757  /nPbt9490bZMqrbbq7fCEJNCqXDQ.jpg       0.600           0           0.0   \n",
      "30513  /sJoXW4Eg2HKWgwzw7cN8VPWvqiZ.jpg       0.600           0           0.0   \n",
      "32141  /5aKIdOpu7kmyc20ChmTXW483nRt.jpg       0.600           2           9.0   \n",
      "32142  /A8IU899IGacJstUq8daMnlyMWY1.jpg       0.600           2           9.0   \n",
      "\n",
      "         budget    revenue  runtime    status  adult  \\\n",
      "0             0    9572765       99  Released  False   \n",
      "6      20000000    2892594       88  Released  False   \n",
      "9      10000000   14257609      106  Released  False   \n",
      "11            0          0       89  Released  False   \n",
      "22     20000000  131647155      105  Released  False   \n",
      "...         ...        ...      ...       ...    ...   \n",
      "29749         0          0       66  Released  False   \n",
      "29757         0          0       61  Released  False   \n",
      "30513       500          0       53  Released  False   \n",
      "32141         0          0        6  Released  False   \n",
      "32142         0          0        7  Released  False   \n",
      "\n",
      "                          backdrop_path                         genre_names  \\\n",
      "0      /5GA3vV1aWWHTSDO5eno8V5zDo8r.jpg                    Horror, Thriller   \n",
      "6      /tIX6j3NzadlwGcJ52nuWdmtOQkg.jpg           Horror, Mystery, Thriller   \n",
      "9      /21ldFAokKVjwzi1SHXoPb5gc7md.jpg           Horror, Mystery, Thriller   \n",
      "11     /xHRabofjmMGoIV3mb6xgy4nwOcS.jpg                              Horror   \n",
      "22     /5P0PtxIneLNMq7m0crF1R9Sjzpv.jpg                    Horror, Thriller   \n",
      "...                                 ...                                 ...   \n",
      "29749  /oDfpmvljmOj7jS5Hd1Jt0GvirNM.jpg                              Horror   \n",
      "29757  /gTv00C0ASWycN95IA2aalmjy5sz.jpg                              Horror   \n",
      "30513  /s9IrDyXBTzGch8wJ5tMoQknPm24.jpg                              Horror   \n",
      "32141  /q4g7qKN48VzIswCcGeKQZDgbiMQ.jpg  Animation, Horror, Science Fiction   \n",
      "32142  /ouwfnrKptbqjEMveaKfdkBqjBGG.jpg  Animation, Horror, Science Fiction   \n",
      "\n",
      "       collection                                    collection_name  \n",
      "0        760193.0                                  Orphan Collection  \n",
      "6         94899.0                        Jeepers Creepers Collection  \n",
      "9        950289.0                                       X Collection  \n",
      "11       916357.0                         Jack in the Box Collection  \n",
      "22        91361.0                               Halloween Collection  \n",
      "...           ...                                                ...  \n",
      "29749    383032.0                      Honto Ni Atta! Noroi no Video  \n",
      "29757    383032.0                      Honto Ni Atta! Noroi no Video  \n",
      "30513   1014548.0                                      DV collection  \n",
      "32141    999953.0  The Beast From Twenty Zillion Years Ago Collec...  \n",
      "32142    999953.0  The Beast From Twenty Zillion Years Ago Collec...  \n",
      "\n",
      "[1117 rows x 20 columns]\n",
      "        id                  original_title                           title  \\\n",
      "0   760161              Orphan: First Kill              Orphan: First Kill   \n",
      "6   717728        Jeepers Creepers: Reborn        Jeepers Creepers: Reborn   \n",
      "9   760104                               X                               X   \n",
      "11  801071  The Jack in the Box: Awakening  The Jack in the Box: Awakening   \n",
      "22  610253                 Halloween Kills                 Halloween Kills   \n",
      "\n",
      "   original_language                                           overview  \\\n",
      "0                 en  After escaping from an Estonian psychiatric fa...   \n",
      "6                 en  Forced to travel with her boyfriend to a horro...   \n",
      "9                 en  In 1979, a group of young filmmakers set out t...   \n",
      "11                en  When a vintage Jack-in-the-box is opened by a ...   \n",
      "22                en  The nightmare isn't over as unstoppable killer...   \n",
      "\n",
      "                                             tagline release_date  \\\n",
      "0   There's always been something wrong with Esther.   2022-07-27   \n",
      "6                                   Evil Rides Again   2022-09-15   \n",
      "9                     Dying to show you a good time.   2022-03-17   \n",
      "11     Once you open the box... you can't escape it.   2022-02-24   \n",
      "22                                Evil dies tonight.   2021-10-14   \n",
      "\n",
      "                         poster_path  popularity  vote_count  vote_average  \\\n",
      "0   /pHkKbIRoCe7zIFvqan9LFSaQAde.jpg    5088.584         902           6.9   \n",
      "6   /aGBuiirBIQ7o64FmJxO53eYDuro.jpg     821.605         125           5.8   \n",
      "9   /woTQx9Q4b8aO13jR9dsj8C9JESy.jpg     543.670        1035           6.8   \n",
      "11  /3Ib8vlWTrAKRrTWUrTrZPOMW4jp.jpg     527.579         157           6.4   \n",
      "22  /qmJGd5IfURq8iPQ9KF3les47vFS.jpg     315.027        1941           6.7   \n",
      "\n",
      "      budget    revenue  runtime    status  adult  \\\n",
      "0          0    9572765       99  Released  False   \n",
      "6   20000000    2892594       88  Released  False   \n",
      "9   10000000   14257609      106  Released  False   \n",
      "11         0          0       89  Released  False   \n",
      "22  20000000  131647155      105  Released  False   \n",
      "\n",
      "                       backdrop_path                genre_names  collection  \\\n",
      "0   /5GA3vV1aWWHTSDO5eno8V5zDo8r.jpg           Horror, Thriller    760193.0   \n",
      "6   /tIX6j3NzadlwGcJ52nuWdmtOQkg.jpg  Horror, Mystery, Thriller     94899.0   \n",
      "9   /21ldFAokKVjwzi1SHXoPb5gc7md.jpg  Horror, Mystery, Thriller    950289.0   \n",
      "11  /xHRabofjmMGoIV3mb6xgy4nwOcS.jpg                     Horror    916357.0   \n",
      "22  /5P0PtxIneLNMq7m0crF1R9Sjzpv.jpg           Horror, Thriller     91361.0   \n",
      "\n",
      "                collection_name  \n",
      "0             Orphan Collection  \n",
      "6   Jeepers Creepers Collection  \n",
      "9                  X Collection  \n",
      "11   Jack in the Box Collection  \n",
      "22         Halloween Collection  \n"
     ]
    }
   ],
   "source": [
    "#Let's take a quick check for null values.\n",
    "print(df.isnull().sum())\n",
    "#Let's go ahead and remove rows with null values.\n",
    "df_cleaned = df.dropna()\n",
    "print(df_cleaned)\n",
    "#I can also remove only null rows (or columns) that I want to remove, like 'collections.'\n",
    "df_cleaned_again = df.dropna(subset=['collection'])\n",
    "print(df_cleaned_again.head())\n"
   ]
  },
  {
   "cell_type": "markdown",
   "id": "afec054b",
   "metadata": {},
   "source": [
    "#### Fill in missing values with a specified value when removing rows is not ideal, and estimates or placeholders can be used.\n",
    "- Preserves the size of the dataset\n",
    "- Useful when missing data is not entirely random or when approximate values can be used"
   ]
  },
  {
   "cell_type": "code",
   "execution_count": 17,
   "id": "5cfd91f1",
   "metadata": {},
   "outputs": [],
   "source": [
    "df_filled = df.fillna(0) #fills with 0\n",
    "\n",
    "#Let's see if that eliminated all the nulls.\n",
    "df_filled.isnull().sum()\n",
    "\n",
    "#Other filling strategies:\n",
    "#df_mean_filled = df.fillna(df.mean()) #This doesn't work because you can't fill non-numeric data with numeric data.\n",
    "df_mean_filled = df.fillna(df.mean(numeric_only=True)) #This solves the problem by filling null values with the mean only when the column is a numeric data type.\n",
    "df_forward_filled = df.ffill()\n",
    "df_backward_filled = df.bfill()"
   ]
  },
  {
   "cell_type": "markdown",
   "id": "a8b5404a",
   "metadata": {},
   "source": [
    "#### Transposing rows and columns"
   ]
  },
  {
   "cell_type": "code",
   "execution_count": 18,
   "id": "5925172d",
   "metadata": {},
   "outputs": [],
   "source": [
    "transposed_df = df.T"
   ]
  },
  {
   "cell_type": "markdown",
   "id": "a8f0c1df",
   "metadata": {},
   "source": [
    "#### Normalizing data"
   ]
  },
  {
   "cell_type": "markdown",
   "id": "1bf9f8db",
   "metadata": {},
   "source": [
    "Replacing spaces with undercores in column names"
   ]
  },
  {
   "cell_type": "code",
   "execution_count": 19,
   "id": "c2874d7d",
   "metadata": {},
   "outputs": [
    {
     "name": "stdout",
     "output_type": "stream",
     "text": [
      "Index(['id', 'original_title', 'title', 'original_language', 'overview',\n",
      "       'tagline', 'release_date', 'poster_path', 'popularity', 'vote_count',\n",
      "       'vote_average', 'budget', 'revenue', 'runtime', 'status', 'adult',\n",
      "       'backdrop_path', 'genre_names', 'collection', 'collection_name'],\n",
      "      dtype='object')\n"
     ]
    }
   ],
   "source": [
    "#This isn't necessary for my DataFrame, but I'll put the syntax anyway for reference.\n",
    "df.columns = df.columns.str.replace(' ', '_')\n",
    "print(df.columns)"
   ]
  },
  {
   "cell_type": "markdown",
   "id": "f5bf3851",
   "metadata": {},
   "source": [
    "Converting data to uppercase"
   ]
  },
  {
   "cell_type": "code",
   "execution_count": 20,
   "id": "57bd4974",
   "metadata": {},
   "outputs": [],
   "source": [
    "#df = df.map(str.upper)\n",
    "#This gives an error because not all of my objects are strings."
   ]
  },
  {
   "cell_type": "markdown",
   "id": "ba754a24",
   "metadata": {},
   "source": [
    "#### Keeping rows that meet a condition (Boolean Indexing)"
   ]
  },
  {
   "cell_type": "code",
   "execution_count": 21,
   "id": "ae4dea54",
   "metadata": {},
   "outputs": [
    {
     "name": "stdout",
     "output_type": "stream",
     "text": [
      "            id                original_title                         title  \\\n",
      "7       762504                          Nope                          Nope   \n",
      "30       21208                        Orphan                        Orphan   \n",
      "41      474350                It Chapter Two                It Chapter Two   \n",
      "77      259693               The Conjuring 2               The Conjuring 2   \n",
      "87         561                   Constantine                   Constantine   \n",
      "...        ...                           ...                           ...   \n",
      "32276  1011207                    Evil Lurks                    Evil Lurks   \n",
      "32345  1016519  S.O.V. The True Independents  S.O.V. The True Independents   \n",
      "32347  1016642                     Varnamaya                     Varnamaya   \n",
      "32410  1023241       2 Nights in Soul Valley       2 Nights in Soul Valley   \n",
      "32537  1032890  Welcome to the Occult Forest  Welcome to the Occult Forest   \n",
      "\n",
      "      original_language                                           overview  \\\n",
      "7                    en  Residents in a lonely gulch of inland Californ...   \n",
      "30                   en  After losing their baby, a married couple adop...   \n",
      "41                   en  27 years after overcoming the malevolent super...   \n",
      "77                   en  Lorraine and Ed Warren travel to north London ...   \n",
      "87                   en  John Constantine has literally been to Hell an...   \n",
      "...                 ...                                                ...   \n",
      "32276                en  A troubled woman seeks help from an unscrupulo...   \n",
      "32345                en  Series dedicated to preserving the legacy of s...   \n",
      "32347                kn  A renowned artist's life descends into chaos w...   \n",
      "32410                en                                                NaN   \n",
      "32537                en  A washed up horror film director named Kôji Ku...   \n",
      "\n",
      "                                                 tagline release_date  \\\n",
      "7                                  What’s a bad miracle?   2022-07-20   \n",
      "30                  There's something wrong with Esther.   2009-07-24   \n",
      "41                                    You'll Float Again   2019-09-04   \n",
      "77     The next true story from the case files of Ed ...   2016-06-08   \n",
      "87     Hell wants him, Heaven won't take him, Earth n...   2005-02-08   \n",
      "...                                                  ...          ...   \n",
      "32276                                    Is Anyone Safe?   2022-07-17   \n",
      "32345                                                NaN   2018-11-18   \n",
      "32347  Village is cursed, people have disappeared, so...   2018-11-23   \n",
      "32410                                                NaN   2012-12-28   \n",
      "32537  Murders, crimes, laughter, psychics, superhero...   2022-07-22   \n",
      "\n",
      "                            poster_path  popularity  vote_count  vote_average  \\\n",
      "7      /AcKVlWaNVVVFQwro3nLXqPljcYA.jpg     733.112        1684           7.0   \n",
      "30     /lCGpOgoTOGLtZnBiGY9HRg5Xnjd.jpg     265.858        4403           7.0   \n",
      "41     /zfE0R94v1E8cuKAerbskfD3VfUt.jpg     230.451        7221           6.9   \n",
      "77     /zEqyD0SBt6HL7W9JQoWwtd5Do1T.jpg     137.180        7061           7.3   \n",
      "87     /vPYgvd2MwHlxTamAOjwVQp4qs1W.jpg     119.677        5863           7.0   \n",
      "...                                 ...         ...         ...           ...   \n",
      "32276  /badB2AI9ynlSzA1XeHxcAFDlv2A.jpg       0.600           0           0.0   \n",
      "32345  /kZbzR4NYWlzJduXlKx6epNcFEt7.jpg       0.600           0           0.0   \n",
      "32347  /nVHmLk8DvmtY0O22t2N4bje7veh.jpg       0.600           1           2.0   \n",
      "32410  /thzgu4ujZc9VcsXQ6oEOnBZxdXt.jpg       0.600           0           0.0   \n",
      "32537  /ngFyxdliPZrG3Qra7tW3LbWksFd.jpg       0.600           0           0.0   \n",
      "\n",
      "          budget    revenue  runtime    status  adult  \\\n",
      "7       68000000  170800000      130  Released  False   \n",
      "30      20000000   77912251      123  Released  False   \n",
      "41      79000000  473122525      170  Released  False   \n",
      "77      40000000  320392818      134  Released  False   \n",
      "87     100000000  230884728      121  Released  False   \n",
      "...          ...        ...      ...       ...    ...   \n",
      "32276        150          0      150  Released  False   \n",
      "32345          0          0      140  Released  False   \n",
      "32347     181618          0      130  Released  False   \n",
      "32410          0          0      180  Released  False   \n",
      "32537          0          0      141  Released  False   \n",
      "\n",
      "                          backdrop_path  \\\n",
      "7      /xVbppM1xgbskOKgOuV8fbWBWHtt.jpg   \n",
      "30     /blJVWug8FJggb9gs6NuooyOWBTP.jpg   \n",
      "41     /8moTOzunF7p40oR5XhlDvJckOSW.jpg   \n",
      "77     /4mfFtlGeInPrQVm1hpv7th02yjx.jpg   \n",
      "87     /tIG8FwHRiHLOlWJdizp2oxdkSL2.jpg   \n",
      "...                                 ...   \n",
      "32276                               NaN   \n",
      "32345                               NaN   \n",
      "32347                               NaN   \n",
      "32410                               NaN   \n",
      "32537  /s8Kpai084gCgQlsT3bpaEYuJmDc.jpg   \n",
      "\n",
      "                                      genre_names  collection  \\\n",
      "7      Horror, Mystery, Science Fiction, Thriller         NaN   \n",
      "30                      Horror, Mystery, Thriller    760193.0   \n",
      "41                                Fantasy, Horror    477962.0   \n",
      "77                               Horror, Thriller    313086.0   \n",
      "87                        Action, Fantasy, Horror   1025281.0   \n",
      "...                                           ...         ...   \n",
      "32276                                      Horror         NaN   \n",
      "32345                         Documentary, Horror         NaN   \n",
      "32347                   Horror, Mystery, Thriller         NaN   \n",
      "32410                  Adventure, Horror, Mystery         NaN   \n",
      "32537                       Comedy, Drama, Horror         NaN   \n",
      "\n",
      "                collection_name  \n",
      "7                           NaN  \n",
      "30            Orphan Collection  \n",
      "41                It Collection  \n",
      "77     The Conjuring Collection  \n",
      "87       Constantine Collection  \n",
      "...                         ...  \n",
      "32276                       NaN  \n",
      "32345                       NaN  \n",
      "32347                       NaN  \n",
      "32410                       NaN  \n",
      "32537                       NaN  \n",
      "\n",
      "[786 rows x 20 columns]\n"
     ]
    }
   ],
   "source": [
    "#New variable only contains rows where runtime is greater than 120\n",
    "\n",
    "df_filtered = df[df['runtime'] > 120]\n",
    "print(df_filtered)"
   ]
  },
  {
   "cell_type": "markdown",
   "id": "debe6d73",
   "metadata": {},
   "source": [
    "#### Removing a column"
   ]
  },
  {
   "cell_type": "code",
   "execution_count": 22,
   "id": "beba2649",
   "metadata": {},
   "outputs": [
    {
     "name": "stdout",
     "output_type": "stream",
     "text": [
      "            id                              original_title  \\\n",
      "0       760161                          Orphan: First Kill   \n",
      "1       760741                                       Beast   \n",
      "2       882598                                       Smile   \n",
      "3       756999                             The Black Phone   \n",
      "4       772450                                  Presencias   \n",
      "...        ...                                         ...   \n",
      "32535  1032201                             Catch a Butcher   \n",
      "32536  1032667  Shaye Saint John: The Triggers Compilation   \n",
      "32537  1032890                Welcome to the Occult Forest   \n",
      "32538  1033052                                The Mean One   \n",
      "32539  1033095                              Secret Formula   \n",
      "\n",
      "                                            title original_language  \\\n",
      "0                              Orphan: First Kill                en   \n",
      "1                                           Beast                en   \n",
      "2                                           Smile                en   \n",
      "3                                 The Black Phone                en   \n",
      "4                                       Presences                es   \n",
      "...                                           ...               ...   \n",
      "32535                             Catch a Butcher                en   \n",
      "32536  Shaye Saint John: The Triggers Compilation                en   \n",
      "32537                Welcome to the Occult Forest                en   \n",
      "32538                                The Mean One                en   \n",
      "32539                              Secret Formula                en   \n",
      "\n",
      "                                                overview release_date  \\\n",
      "0      After escaping from an Estonian psychiatric fa...   2022-07-27   \n",
      "1      A recently widowed man and his two teenage dau...   2022-08-11   \n",
      "2      After witnessing a bizarre, traumatic incident...   2022-09-23   \n",
      "3      Finney Blake, a shy but clever 13-year-old boy...   2022-06-22   \n",
      "4      A man who loses his wife and goes to seclude h...   2022-09-07   \n",
      "...                                                  ...          ...   \n",
      "32535  In a maternity ward in nineteenth-century Indi...   2021-11-20   \n",
      "32536  A bizarre mix of early Tod Hayne's and Phyllis...   2006-10-30   \n",
      "32537  A washed up horror film director named Kôji Ku...   2022-07-22   \n",
      "32538  The Mean One is a hairy, green-skinned grump i...   2022-12-15   \n",
      "32539                                                NaN   2020-12-06   \n",
      "\n",
      "                            poster_path  popularity  vote_count  vote_average  \\\n",
      "0      /pHkKbIRoCe7zIFvqan9LFSaQAde.jpg    5088.584         902           6.9   \n",
      "1      /xIGr7UHsKf0URWmyyd5qFMAq4d8.jpg    2172.338         584           7.1   \n",
      "2      /hiaeZKzwsk4y4atFhmncO5KRxeT.jpg    1863.628         114           6.8   \n",
      "3      /lr11mCT85T1JanlgjMuhs9nMht4.jpg    1071.398        2736           7.9   \n",
      "4      /dgDT3uol3mdvwEg0jt1ble3l9hw.jpg    1020.995          83           7.0   \n",
      "...                                 ...         ...         ...           ...   \n",
      "32535  /4LHrYpe6bjiT8Wvkzl3269LIUZl.jpg       0.600           0           0.0   \n",
      "32536  /j1vWwxnTsoKjZFwJODiNHNS8GFK.jpg       0.600           0           0.0   \n",
      "32537  /ngFyxdliPZrG3Qra7tW3LbWksFd.jpg       0.600           0           0.0   \n",
      "32538                               NaN       0.000           0           0.0   \n",
      "32539  /5GTTNqHwXfqqnBPrZAv0DVoWfjr.jpg       0.000           0           0.0   \n",
      "\n",
      "         budget    revenue  runtime           status  adult  \\\n",
      "0             0    9572765       99         Released  False   \n",
      "1             0   56000000       93         Released  False   \n",
      "2      17000000   45000000      115         Released  False   \n",
      "3      18800000  161000000      103         Released  False   \n",
      "4             0          0        0         Released  False   \n",
      "...         ...        ...      ...              ...    ...   \n",
      "32535         0          0       11         Released  False   \n",
      "32536         0          0       92         Released  False   \n",
      "32537         0          0      141         Released  False   \n",
      "32538         0          0        0  Post Production  False   \n",
      "32539         0          0        0         Released  False   \n",
      "\n",
      "                          backdrop_path                genre_names  \\\n",
      "0      /5GA3vV1aWWHTSDO5eno8V5zDo8r.jpg           Horror, Thriller   \n",
      "1      /2k9tBql5GYH328Krj66tDT9LtFZ.jpg   Adventure, Drama, Horror   \n",
      "2      /mVNPfpydornVe4H4UCIk7WevWjf.jpg  Horror, Mystery, Thriller   \n",
      "3      /AfvIjhDu9p64jKcmohS4hsPG95Q.jpg           Horror, Thriller   \n",
      "4      /ojfzhdwRemcDt1I6pao6vVLw9AA.jpg                     Horror   \n",
      "...                                 ...                        ...   \n",
      "32535                               NaN                     Horror   \n",
      "32536                               NaN            Fantasy, Horror   \n",
      "32537  /s8Kpai084gCgQlsT3bpaEYuJmDc.jpg      Comedy, Drama, Horror   \n",
      "32538                               NaN                     Horror   \n",
      "32539                               NaN          Animation, Horror   \n",
      "\n",
      "       collection    collection_name  \n",
      "0        760193.0  Orphan Collection  \n",
      "1             NaN                NaN  \n",
      "2             NaN                NaN  \n",
      "3             NaN                NaN  \n",
      "4             NaN                NaN  \n",
      "...           ...                ...  \n",
      "32535         NaN                NaN  \n",
      "32536         NaN                NaN  \n",
      "32537         NaN                NaN  \n",
      "32538         NaN                NaN  \n",
      "32539         NaN                NaN  \n",
      "\n",
      "[32540 rows x 19 columns]\n"
     ]
    }
   ],
   "source": [
    "#New variable does not contain the column 'tagline' from the dataframe 'df'\n",
    "\n",
    "df_dropped_col = df.drop(columns=['tagline'])\n",
    "print(df_dropped_col)"
   ]
  },
  {
   "cell_type": "markdown",
   "id": "982ccf88",
   "metadata": {},
   "source": [
    "#### Adding a new column based on a condition\n",
    "- .apply() applies a transformation for each value in the specified column\n",
    "- lambda x: function checks the Boolean specified"
   ]
  },
  {
   "cell_type": "code",
   "execution_count": 23,
   "id": "7aaa78ff",
   "metadata": {},
   "outputs": [
    {
     "name": "stdout",
     "output_type": "stream",
     "text": [
      "0        Short\n",
      "1        Short\n",
      "2        Short\n",
      "3        Short\n",
      "4        Short\n",
      "         ...  \n",
      "32535    Short\n",
      "32536    Short\n",
      "32537     Long\n",
      "32538    Short\n",
      "32539    Short\n",
      "Name: Length, Length: 32540, dtype: object\n"
     ]
    }
   ],
   "source": [
    "#Creates a new column that labels movies with runtime greater than 120 'Long' and all others 'Short'\n",
    "\n",
    "df['Length'] = df['runtime'].apply(lambda x: 'Long' if x > 120 else 'Short')\n",
    "print(df['Length'])"
   ]
  },
  {
   "cell_type": "markdown",
   "id": "ef2bd1b9",
   "metadata": {},
   "source": [
    "#### Mapping values in a column\n",
    "- language_mapping = {...} defines a dictionary to map old values to new values\n",
    "- df['original_language'] selects the column\n",
    "- .map(language_mapping) looks up each value in the dictionary and replaces it if it exists in the column specified"
   ]
  },
  {
   "cell_type": "code",
   "execution_count": 24,
   "id": "07b96b61",
   "metadata": {},
   "outputs": [
    {
     "name": "stdout",
     "output_type": "stream",
     "text": [
      "0        English\n",
      "1        English\n",
      "2        English\n",
      "3        English\n",
      "4            NaN\n",
      "          ...   \n",
      "32535    English\n",
      "32536    English\n",
      "32537    English\n",
      "32538    English\n",
      "32539    English\n",
      "Name: original_language, Length: 32540, dtype: object\n"
     ]
    }
   ],
   "source": [
    "#Changes 'en' in the 'original_language' column to 'English'\n",
    "\n",
    "language_mapping = {'en': 'English'}\n",
    "df['original_language'] = df['original_language'].map(language_mapping)\n",
    "print(df['original_language'])"
   ]
  },
  {
   "cell_type": "markdown",
   "id": "25bec962",
   "metadata": {},
   "source": [
    "#### Changing column names\n",
    "- .rename(columns={}) specifies which columns\n",
    "- Dictionary keys are the old names\n",
    "- Dictionary values are the new names"
   ]
  },
  {
   "cell_type": "code",
   "execution_count": 25,
   "id": "0f171a06",
   "metadata": {},
   "outputs": [
    {
     "name": "stdout",
     "output_type": "stream",
     "text": [
      "       id      original_title               title original_language  \\\n",
      "0  760161  Orphan: First Kill  Orphan: First Kill           English   \n",
      "1  760741               Beast               Beast           English   \n",
      "2  882598               Smile               Smile           English   \n",
      "3  756999     The Black Phone     The Black Phone           English   \n",
      "4  772450          Presencias           Presences               NaN   \n",
      "\n",
      "                                            overview  \\\n",
      "0  After escaping from an Estonian psychiatric fa...   \n",
      "1  A recently widowed man and his two teenage dau...   \n",
      "2  After witnessing a bizarre, traumatic incident...   \n",
      "3  Finney Blake, a shy but clever 13-year-old boy...   \n",
      "4  A man who loses his wife and goes to seclude h...   \n",
      "\n",
      "                                             slogan release_date  \\\n",
      "0  There's always been something wrong with Esther.   2022-07-27   \n",
      "1                                 Fight for family.   2022-08-11   \n",
      "2                   Once you see it, it’s too late.   2022-09-23   \n",
      "3                          Never talk to strangers.   2022-06-22   \n",
      "4                                               NaN   2022-09-07   \n",
      "\n",
      "                        poster_path  popularity  vote_count  ...    budget  \\\n",
      "0  /pHkKbIRoCe7zIFvqan9LFSaQAde.jpg    5088.584         902  ...         0   \n",
      "1  /xIGr7UHsKf0URWmyyd5qFMAq4d8.jpg    2172.338         584  ...         0   \n",
      "2  /hiaeZKzwsk4y4atFhmncO5KRxeT.jpg    1863.628         114  ...  17000000   \n",
      "3  /lr11mCT85T1JanlgjMuhs9nMht4.jpg    1071.398        2736  ...  18800000   \n",
      "4  /dgDT3uol3mdvwEg0jt1ble3l9hw.jpg    1020.995          83  ...         0   \n",
      "\n",
      "     revenue  runtime    status  adult                     backdrop_path  \\\n",
      "0    9572765       99  Released  False  /5GA3vV1aWWHTSDO5eno8V5zDo8r.jpg   \n",
      "1   56000000       93  Released  False  /2k9tBql5GYH328Krj66tDT9LtFZ.jpg   \n",
      "2   45000000      115  Released  False  /mVNPfpydornVe4H4UCIk7WevWjf.jpg   \n",
      "3  161000000      103  Released  False  /AfvIjhDu9p64jKcmohS4hsPG95Q.jpg   \n",
      "4          0        0  Released  False  /ojfzhdwRemcDt1I6pao6vVLw9AA.jpg   \n",
      "\n",
      "                 genre_names collection    collection_name Length  \n",
      "0           Horror, Thriller   760193.0  Orphan Collection  Short  \n",
      "1   Adventure, Drama, Horror        NaN                NaN  Short  \n",
      "2  Horror, Mystery, Thriller        NaN                NaN  Short  \n",
      "3           Horror, Thriller        NaN                NaN  Short  \n",
      "4                     Horror        NaN                NaN  Short  \n",
      "\n",
      "[5 rows x 21 columns]\n"
     ]
    }
   ],
   "source": [
    "#Creates a new DataFrame where the column 'tagline' is called 'slogan'\n",
    "\n",
    "df_renamed = df.rename(columns={'tagline' : 'slogan'})\n",
    "print(df_renamed.head())"
   ]
  },
  {
   "cell_type": "markdown",
   "id": "bd765a53",
   "metadata": {},
   "source": [
    "#### Creating a column\n",
    "\n",
    "Note: This (a vectorized operation) is faster than using .apply() with a function"
   ]
  },
  {
   "cell_type": "code",
   "execution_count": 26,
   "id": "8d517949",
   "metadata": {},
   "outputs": [
    {
     "name": "stdout",
     "output_type": "stream",
     "text": [
      "       id      original_title               title original_language  \\\n",
      "0  760161  Orphan: First Kill  Orphan: First Kill           English   \n",
      "\n",
      "                                            overview  \\\n",
      "0  After escaping from an Estonian psychiatric fa...   \n",
      "\n",
      "                                            tagline release_date  \\\n",
      "0  There's always been something wrong with Esther.   2022-07-27   \n",
      "\n",
      "                        poster_path  popularity  vote_count  ...  revenue  \\\n",
      "0  /pHkKbIRoCe7zIFvqan9LFSaQAde.jpg    5088.584         902  ...  9572765   \n",
      "\n",
      "   runtime    status  adult                     backdrop_path  \\\n",
      "0       99  Released  False  /5GA3vV1aWWHTSDO5eno8V5zDo8r.jpg   \n",
      "\n",
      "        genre_names collection    collection_name  Length runtime_hours  \n",
      "0  Horror, Thriller   760193.0  Orphan Collection   Short          1.65  \n",
      "\n",
      "[1 rows x 22 columns]\n"
     ]
    }
   ],
   "source": [
    "#Creates a new column where the runtime is calculated in hours instead of minutes\n",
    "\n",
    "df['runtime_hours'] = df['runtime'] / 60\n",
    "\n",
    "print(df.head(1))"
   ]
  },
  {
   "cell_type": "markdown",
   "id": "c114904f",
   "metadata": {},
   "source": [
    "# Sketching with plots"
   ]
  },
  {
   "cell_type": "markdown",
   "id": "02632022",
   "metadata": {},
   "source": [
    "#### Creating a histogram\n",
    "- See data distribution\n",
    "- Good for using numerical data to spot outliers"
   ]
  },
  {
   "cell_type": "code",
   "execution_count": 27,
   "id": "dc64713c",
   "metadata": {},
   "outputs": [
    {
     "data": {
      "text/plain": [
       "<Axes: title={'center': 'Movie Runtimes Distribution'}, ylabel='Frequency'>"
      ]
     },
     "execution_count": 27,
     "metadata": {},
     "output_type": "execute_result"
    },
    {
     "data": {
      "image/png": "[encoded data removed]",
      "text/plain": [
       "<Figure size 640x480 with 1 Axes>"
      ]
     },
     "metadata": {},
     "output_type": "display_data"
    }
   ],
   "source": [
    "# Creates a histogram based on movie runtimes\n",
    "import matplotlib\n",
    "\n",
    "df['runtime'].plot(kind='hist', bins=100, title='Movie Runtimes Distribution')"
   ]
  },
  {
   "cell_type": "markdown",
   "id": "ea48984a",
   "metadata": {},
   "source": [
    "#### Creating a scatterplot\n",
    "- Explore relationships between variables\n",
    "- Identify trends"
   ]
  },
  {
   "cell_type": "code",
   "execution_count": 28,
   "id": "1ae4f528",
   "metadata": {},
   "outputs": [
    {
     "data": {
      "text/plain": [
       "<Axes: title={'center': 'Movie Runtimes'}, xlabel='title', ylabel='runtime'>"
      ]
     },
     "execution_count": 28,
     "metadata": {},
     "output_type": "execute_result"
    },
    {
     "data": {
      "image/png": "[encoded data removed]",
      "text/plain": [
       "<Figure size 640x480 with 1 Axes>"
      ]
     },
     "metadata": {},
     "output_type": "display_data"
    }
   ],
   "source": [
    "#The entire df wouldn't work because there were some Japanese characters that the font couldn't handle, so I just ran the first 5 rows as a test.\n",
    "df.head().plot(kind='scatter', x='title', y='runtime', title='Movie Runtimes')"
   ]
  },
  {
   "cell_type": "markdown",
   "id": "a3e50821",
   "metadata": {},
   "source": [
    "#### Creating a bar plot\n",
    "- For categorical data, visualize counts across categories"
   ]
  },
  {
   "cell_type": "code",
   "execution_count": 29,
   "id": "80e32fab",
   "metadata": {},
   "outputs": [
    {
     "data": {
      "text/plain": [
       "<Axes: title={'center': 'Languages'}, xlabel='original_language'>"
      ]
     },
     "execution_count": 29,
     "metadata": {},
     "output_type": "execute_result"
    },
    {
     "data": {
      "image/png": "[encoded data removed]",
      "text/plain": [
       "<Figure size 640x480 with 1 Axes>"
      ]
     },
     "metadata": {},
     "output_type": "display_data"
    }
   ],
   "source": [
    "#df had so many rows that the result was small and illegible, so I only used the first 5 rows\n",
    "df['original_language'].value_counts().plot(kind='bar', title='Languages') #value_counts adds up the number of times a value shows up in a column"
   ]
  },
  {
   "cell_type": "markdown",
   "id": "c75c3a72",
   "metadata": {},
   "source": [
    "| Argument      | Description                                                                 |\n",
    "|---------------|-----------------------------------------------------------------------------|\n",
    "| `x`           | Column name for x-axis values (especially for scatter and hexbin plots).   |\n",
    "| `y`           | Column name or list of columns for y-axis values.                          |\n",
    "| `kind`        | Type of plot: `'line'`, `'bar'`, `'barh'`, `'hist'`, `'box'`, `'kde'`, `'area'`, `'pie'`, `'scatter'`, `'hexbin'`. |\n",
    "| `ax`          | Matplotlib Axes object to draw the plot on.                                |\n",
    "| `subplots`    | `True` to create a subplot for each column.                                |\n",
    "| `sharex`      | Share x-axis among subplots (`True` or `False`).                           |\n",
    "| `sharey`      | Share y-axis among subplots (`True` or `False`).                           |\n",
    "| `layout`      | Tuple `(rows, columns)` for subplot grid layout.                           |\n",
    "| `figsize`     | Tuple `(width, height)` in inches to set the figure size.                  |\n",
    "| `use_index`   | `True` to use DataFrame index for x-axis.                                  |\n",
    "| `title`       | Plot title as a string.                                                    |\n",
    "| `grid`        | Display grid lines (`True` or `False`).                                    |\n",
    "| `legend`      | Show legend (`True` or `False`).                                            |\n",
    "| `style`       | Style string or list of style strings (e.g., `'r--'` for red dashed line). |\n",
    "| `logx`        | Use logarithmic scale for x-axis (`True` or `False`).                      |\n",
    "| `logy`        | Use logarithmic scale for y-axis (`True` or `False`).                      |\n",
    "| `loglog`      | Use logarithmic scale for both axes (`True` or `False`).                   |\n",
    "| `xticks`      | Set custom x-axis tick values (list or array).                             |\n",
    "| `yticks`      | Set custom y-axis tick values (list or array).                             |\n",
    "| `xlim`        | Set x-axis limits as `(min, max)`.                                         |\n",
    "| `ylim`        | Set y-axis limits as `(min, max)`.                                         |\n",
    "| `rot`         | Rotation angle of x or y labels (int).                                     |\n",
    "| `fontsize`    | Font size for labels (int).                                                |\n",
    "| `colormap`    | Colormap name or object (e.g., `'viridis'`, `'plasma'`).                   |\n",
    "| `table`       | Draw a data table under the plot (`True` or `False`).                      |\n",
    "| `yerr`        | Add error bars to y-values (array or DataFrame column).                    |\n",
    "| `xerr`        | Add error bars to x-values (array or DataFrame column).                    |\n",
    "| `stacked`     | Create stacked bars or area plots (`True` or `False`).                     |\n",
    "| `sort_columns`| Sort column names alphabetically before plotting (`True` or `False`).      |\n",
    "| `**kwargs`    | Additional arguments passed to underlying matplotlib functions.            |"
   ]
  },
  {
   "cell_type": "markdown",
   "id": "d35996f1",
   "metadata": {},
   "source": [
    "# Data Wrangling"
   ]
  },
  {
   "cell_type": "markdown",
   "id": "95d0f69e",
   "metadata": {},
   "source": [
    "#### Aggregating Data  \n",
    ".agg() let's you:  \n",
    "- Apply multiple summary statistics (e.g., sum, mean, max, min, count, etc.).\n",
    "- Apply different aggregations to different columns."
   ]
  },
  {
   "cell_type": "code",
   "execution_count": 30,
   "id": "28cf2b24",
   "metadata": {},
   "outputs": [
    {
     "data": {
      "text/plain": [
       "Index(['id', 'original_title', 'title', 'original_language', 'overview',\n",
       "       'tagline', 'release_date', 'poster_path', 'popularity', 'vote_count',\n",
       "       'vote_average', 'budget', 'revenue', 'runtime', 'status', 'adult',\n",
       "       'backdrop_path', 'genre_names', 'collection', 'collection_name',\n",
       "       'Length', 'runtime_hours'],\n",
       "      dtype='object')"
      ]
     },
     "execution_count": 30,
     "metadata": {},
     "output_type": "execute_result"
    }
   ],
   "source": [
    "#Reminding myself which columns I have to work with\n",
    "df.columns"
   ]
  },
  {
   "cell_type": "code",
   "execution_count": 31,
   "id": "e90e6e79",
   "metadata": {},
   "outputs": [
    {
     "data": {
      "text/html": [
       "<div>\n",
       "<style scoped>\n",
       "    .dataframe tbody tr th:only-of-type {\n",
       "        vertical-align: middle;\n",
       "    }\n",
       "\n",
       "    .dataframe tbody tr th {\n",
       "        vertical-align: top;\n",
       "    }\n",
       "\n",
       "    .dataframe thead th {\n",
       "        text-align: right;\n",
       "    }\n",
       "</style>\n",
       "<table border=\"1\" class=\"dataframe\">\n",
       "  <thead>\n",
       "    <tr style=\"text-align: right;\">\n",
       "      <th></th>\n",
       "      <th>runtime</th>\n",
       "      <th>budget</th>\n",
       "    </tr>\n",
       "  </thead>\n",
       "  <tbody>\n",
       "    <tr>\n",
       "      <th>min</th>\n",
       "      <td>0.000000</td>\n",
       "      <td>0.000000e+00</td>\n",
       "    </tr>\n",
       "    <tr>\n",
       "      <th>max</th>\n",
       "      <td>683.000000</td>\n",
       "      <td>2.000000e+08</td>\n",
       "    </tr>\n",
       "    <tr>\n",
       "      <th>mean</th>\n",
       "      <td>62.142901</td>\n",
       "      <td>5.431266e+05</td>\n",
       "    </tr>\n",
       "  </tbody>\n",
       "</table>\n",
       "</div>"
      ],
      "text/plain": [
       "         runtime        budget\n",
       "min     0.000000  0.000000e+00\n",
       "max   683.000000  2.000000e+08\n",
       "mean   62.142901  5.431266e+05"
      ]
     },
     "execution_count": 31,
     "metadata": {},
     "output_type": "execute_result"
    }
   ],
   "source": [
    "#Let's find the minimum, maximum, and mean runtimes as well as the minimum, maximum, and mean budget.\n",
    "df.agg({'runtime' : ['min', 'max', 'mean'], 'budget': ['min', 'max', 'mean']})"
   ]
  },
  {
   "cell_type": "markdown",
   "id": "6fffb23d",
   "metadata": {},
   "source": [
    "#### Grouping Data\n",
    ".groupby() divides data into groups based on a column in order to perform a function (e.g., sum, mean, etc.) on each group and return the results in a new DataFrame or Series."
   ]
  },
  {
   "cell_type": "code",
   "execution_count": null,
   "id": "74ba4c46",
   "metadata": {},
   "outputs": [
    {
     "data": {
      "text/html": [
       "<div>\n",
       "<style scoped>\n",
       "    .dataframe tbody tr th:only-of-type {\n",
       "        vertical-align: middle;\n",
       "    }\n",
       "\n",
       "    .dataframe tbody tr th {\n",
       "        vertical-align: top;\n",
       "    }\n",
       "\n",
       "    .dataframe thead th {\n",
       "        text-align: right;\n",
       "    }\n",
       "</style>\n",
       "<table border=\"1\" class=\"dataframe\">\n",
       "  <thead>\n",
       "    <tr style=\"text-align: right;\">\n",
       "      <th></th>\n",
       "      <th>title</th>\n",
       "    </tr>\n",
       "    <tr>\n",
       "      <th>genre_names</th>\n",
       "      <th></th>\n",
       "    </tr>\n",
       "  </thead>\n",
       "  <tbody>\n",
       "    <tr>\n",
       "      <th>Action, Adventure, Animation, Comedy, Drama, Fantasy, Horror, Thriller</th>\n",
       "      <td>1</td>\n",
       "    </tr>\n",
       "    <tr>\n",
       "      <th>Action, Adventure, Animation, Comedy, Fantasy, Horror</th>\n",
       "      <td>1</td>\n",
       "    </tr>\n",
       "    <tr>\n",
       "      <th>Action, Adventure, Animation, Comedy, Horror</th>\n",
       "      <td>1</td>\n",
       "    </tr>\n",
       "    <tr>\n",
       "      <th>Action, Adventure, Animation, Drama, Fantasy, Horror</th>\n",
       "      <td>1</td>\n",
       "    </tr>\n",
       "    <tr>\n",
       "      <th>Action, Adventure, Animation, Family, Fantasy, History, Horror</th>\n",
       "      <td>1</td>\n",
       "    </tr>\n",
       "    <tr>\n",
       "      <th>...</th>\n",
       "      <td>...</td>\n",
       "    </tr>\n",
       "    <tr>\n",
       "      <th>Horror, Thriller, War</th>\n",
       "      <td>8</td>\n",
       "    </tr>\n",
       "    <tr>\n",
       "      <th>Horror, Thriller, Western</th>\n",
       "      <td>9</td>\n",
       "    </tr>\n",
       "    <tr>\n",
       "      <th>Horror, War</th>\n",
       "      <td>18</td>\n",
       "    </tr>\n",
       "    <tr>\n",
       "      <th>Horror, Western</th>\n",
       "      <td>49</td>\n",
       "    </tr>\n",
       "    <tr>\n",
       "      <th>Thriller</th>\n",
       "      <td>1</td>\n",
       "    </tr>\n",
       "  </tbody>\n",
       "</table>\n",
       "<p>772 rows × 1 columns</p>\n",
       "</div>"
      ],
      "text/plain": [
       "                                                    title\n",
       "genre_names                                              \n",
       "Action, Adventure, Animation, Comedy, Drama, Fa...      1\n",
       "Action, Adventure, Animation, Comedy, Fantasy, ...      1\n",
       "Action, Adventure, Animation, Comedy, Horror            1\n",
       "Action, Adventure, Animation, Drama, Fantasy, H...      1\n",
       "Action, Adventure, Animation, Family, Fantasy, ...      1\n",
       "...                                                   ...\n",
       "Horror, Thriller, War                                   8\n",
       "Horror, Thriller, Western                               9\n",
       "Horror, War                                            18\n",
       "Horror, Western                                        49\n",
       "Thriller                                                1\n",
       "\n",
       "[772 rows x 1 columns]"
      ]
     },
     "execution_count": 32,
     "metadata": {},
     "output_type": "execute_result"
    }
   ],
   "source": [
    "#We can group the movies by genre_names and look at the total movies listed for each.\n",
    "\n",
    "movie_genres = df.groupby('genre_names')[['title']].count() #Counts the number of entries while .sum() would have added them, which would have been inappropriate for strings.\n",
    "\n",
    "movie_genres"
   ]
  },
  {
   "cell_type": "markdown",
   "id": "43e71626",
   "metadata": {},
   "source": [
    "#### Resetting the index  \n",
    "When you alter a DataFrame, the index may no longer make sense, so you must remember to reset it."
   ]
  },
  {
   "cell_type": "code",
   "execution_count": null,
   "id": "9cd5e9d7",
   "metadata": {},
   "outputs": [
    {
     "data": {
      "text/html": [
       "<div>\n",
       "<style scoped>\n",
       "    .dataframe tbody tr th:only-of-type {\n",
       "        vertical-align: middle;\n",
       "    }\n",
       "\n",
       "    .dataframe tbody tr th {\n",
       "        vertical-align: top;\n",
       "    }\n",
       "\n",
       "    .dataframe thead th {\n",
       "        text-align: right;\n",
       "    }\n",
       "</style>\n",
       "<table border=\"1\" class=\"dataframe\">\n",
       "  <thead>\n",
       "    <tr style=\"text-align: right;\">\n",
       "      <th></th>\n",
       "      <th>genre_names</th>\n",
       "      <th>title</th>\n",
       "    </tr>\n",
       "  </thead>\n",
       "  <tbody>\n",
       "    <tr>\n",
       "      <th>0</th>\n",
       "      <td>Action, Adventure, Animation, Comedy, Drama, F...</td>\n",
       "      <td>1</td>\n",
       "    </tr>\n",
       "    <tr>\n",
       "      <th>1</th>\n",
       "      <td>Action, Adventure, Animation, Comedy, Fantasy,...</td>\n",
       "      <td>1</td>\n",
       "    </tr>\n",
       "    <tr>\n",
       "      <th>2</th>\n",
       "      <td>Action, Adventure, Animation, Comedy, Horror</td>\n",
       "      <td>1</td>\n",
       "    </tr>\n",
       "    <tr>\n",
       "      <th>3</th>\n",
       "      <td>Action, Adventure, Animation, Drama, Fantasy, ...</td>\n",
       "      <td>1</td>\n",
       "    </tr>\n",
       "    <tr>\n",
       "      <th>4</th>\n",
       "      <td>Action, Adventure, Animation, Family, Fantasy,...</td>\n",
       "      <td>1</td>\n",
       "    </tr>\n",
       "    <tr>\n",
       "      <th>...</th>\n",
       "      <td>...</td>\n",
       "      <td>...</td>\n",
       "    </tr>\n",
       "    <tr>\n",
       "      <th>767</th>\n",
       "      <td>Horror, Thriller, War</td>\n",
       "      <td>8</td>\n",
       "    </tr>\n",
       "    <tr>\n",
       "      <th>768</th>\n",
       "      <td>Horror, Thriller, Western</td>\n",
       "      <td>9</td>\n",
       "    </tr>\n",
       "    <tr>\n",
       "      <th>769</th>\n",
       "      <td>Horror, War</td>\n",
       "      <td>18</td>\n",
       "    </tr>\n",
       "    <tr>\n",
       "      <th>770</th>\n",
       "      <td>Horror, Western</td>\n",
       "      <td>49</td>\n",
       "    </tr>\n",
       "    <tr>\n",
       "      <th>771</th>\n",
       "      <td>Thriller</td>\n",
       "      <td>1</td>\n",
       "    </tr>\n",
       "  </tbody>\n",
       "</table>\n",
       "<p>772 rows × 2 columns</p>\n",
       "</div>"
      ],
      "text/plain": [
       "                                           genre_names  title\n",
       "0    Action, Adventure, Animation, Comedy, Drama, F...      1\n",
       "1    Action, Adventure, Animation, Comedy, Fantasy,...      1\n",
       "2         Action, Adventure, Animation, Comedy, Horror      1\n",
       "3    Action, Adventure, Animation, Drama, Fantasy, ...      1\n",
       "4    Action, Adventure, Animation, Family, Fantasy,...      1\n",
       "..                                                 ...    ...\n",
       "767                              Horror, Thriller, War      8\n",
       "768                          Horror, Thriller, Western      9\n",
       "769                                        Horror, War     18\n",
       "770                                    Horror, Western     49\n",
       "771                                           Thriller      1\n",
       "\n",
       "[772 rows x 2 columns]"
      ]
     },
     "execution_count": 33,
     "metadata": {},
     "output_type": "execute_result"
    }
   ],
   "source": [
    "#The new variable 'movie_ratings' can get a brand new index, for example.\n",
    "\n",
    "movie_genres.reset_index()"
   ]
  },
  {
   "cell_type": "markdown",
   "id": "14afcdae",
   "metadata": {},
   "source": [
    "### Functions!\n",
    "We can use functions to group code together into something that can:  \n",
    "- Generate a report using different data.\n",
    "- Be imported into other files"
   ]
  },
  {
   "cell_type": "code",
   "execution_count": 34,
   "id": "07b084ac",
   "metadata": {},
   "outputs": [
    {
     "name": "stdout",
     "output_type": "stream",
     "text": [
      "Here are the number of horror movies that fall under each genre:\n",
      "                                                    title\n",
      "genre_names                                              \n",
      "Action, Adventure, Animation, Comedy, Drama, Fa...      1\n",
      "Action, Adventure, Animation, Comedy, Fantasy, ...      1\n",
      "Action, Adventure, Animation, Comedy, Horror            1\n",
      "Action, Adventure, Animation, Drama, Fantasy, H...      1\n",
      "Action, Adventure, Animation, Family, Fantasy, ...      1\n",
      "...                                                   ...\n",
      "Horror, Thriller, War                                   8\n",
      "Horror, Thriller, Western                               9\n",
      "Horror, War                                            18\n",
      "Horror, Western                                        49\n",
      "Thriller                                                1\n",
      "\n",
      "[772 rows x 1 columns]\n"
     ]
    },
    {
     "data": {
      "text/plain": [
       "<function __main__.genre_counts(df)>"
      ]
     },
     "execution_count": 34,
     "metadata": {},
     "output_type": "execute_result"
    }
   ],
   "source": [
    "#Defining a function to report on aggregated movie data.\n",
    "\n",
    "def genre_counts(df):\n",
    "    movie_genres = df.groupby('genre_names')[['title']].count()\n",
    "    movie_genres.reset_index()\n",
    "    print(f\"Here are the number of horror movies that fall under each genre:\\n{movie_genres}\")\n",
    "    return genre_counts \n",
    "\n",
    "genre_counts(df)"
   ]
  },
  {
   "cell_type": "markdown",
   "id": "393f14f8",
   "metadata": {},
   "source": [
    "# Choosing the Right Chart"
   ]
  },
  {
   "cell_type": "markdown",
   "id": "292d17f5",
   "metadata": {},
   "source": [
    "## Chart Types\n"
   ]
  },
  {
   "cell_type": "markdown",
   "id": "f86a838d",
   "metadata": {},
   "source": [
    "## Bar Charts\n",
    "**Primary purpose:** To compare categories against each other (horizontal bars)\n",
    "\n",
    "**Variations**:\n",
    "- <u>Clustered:</u> Focuses on subcategories\n",
    "- <u>Stacked:</u> Focuses on the overall size of categories stacked together while still being able to see the relative size differences of each subcategory\n",
    "- <u>100% Stacked:</u> All the bars are the same length, but the length of the subcategories differ from category to category  \n",
    "\n",
    "*Ask Yourself: What's easiest to compare?*"
   ]
  },
  {
   "cell_type": "markdown",
   "id": "d1f07bb8",
   "metadata": {},
   "source": [
    "## Column Charts\n",
    "\n",
    "**Primary purpose:** To compare categories against each other (vertical bars)  \n",
    "\n",
    "**Variations**: Same as bar charts (Again, ask yourself: What's easiest to compare?)\n",
    "\n",
    "*Better than a bar chart for showing changes over time because we tend to read information left to right*"
   ]
  },
  {
   "cell_type": "markdown",
   "id": "1e384d1c",
   "metadata": {},
   "source": [
    "## Histogram\n",
    "\n",
    "**Primary purpose:** To show distribution over a continuous variable by putting that data into bins\n",
    "\n",
    "*This is less about the individual data points and more about the broader pattern shown.*"
   ]
  },
  {
   "cell_type": "markdown",
   "id": "67abd1c4",
   "metadata": {},
   "source": [
    "## Pie Charts\n",
    "\n",
    "**Primary purpose:** To compare a value against the total or to compare multiple values against the total  \n",
    "\n",
    "**Variations**: Doughnut, Sunburst, Treemap  \n",
    "\n",
    "*Don't try to compare the size of the slices against each other.*  "
   ]
  },
  {
   "cell_type": "markdown",
   "id": "22338dbf",
   "metadata": {},
   "source": [
    "## Line Charts\n",
    "\n",
    "**Primary purpose:**  Showing changes, trends, or patterns over time  \n",
    "\n",
    "**Variations:**  \n",
    "\n",
    "<u>Multiple Line:</u> Emphasizes how one line is different from another or shows how all lines follow a similar pattern  \n",
    "<u>Area Chart:</u> Combines ideas of a column and line chart  \n",
    "&nbsp;&nbsp;&nbsp;&nbsp;<u>Stacked Area Chart</u>  \n",
    "&nbsp;&nbsp;&nbsp;&nbsp;<u>100% Stacked Area Chart</u>  \n",
    "\n",
    "- Unlike a column chart, it focuses on the data as a whole instead of individual columns to emphasize trends, spikes, anomalies, etc.\n",
    "- The data should have a natural order to it, like time (a.k.a., if you can rearrange the x axis order, a line chart isn't a good fit)"
   ]
  },
  {
   "cell_type": "markdown",
   "id": "ef6c51a4",
   "metadata": {},
   "source": [
    "## Scatter Plot Charts\n",
    "\n",
    "**Primary purpose:** To show the relationship between two variables (positive, negative, or no correlation; outliers; where a specific dot falls on the chart)  \n",
    "\n",
    "**Variations:**  \n",
    "\n",
    "<u>Bubble Chart</u>: The size of each dot changes based on an additional variable\n",
    "\n",
    "*It's usually better to focus on the main message without adding extra variables using size, color, or symbol.*"
   ]
  },
  {
   "cell_type": "markdown",
   "id": "f48a5abb",
   "metadata": {},
   "source": [
    "## Tables\n",
    "\n",
    "**Primary purpose:** To show precise values and/or to show multiple types of data in the same space\n",
    "\n",
    "**Variations:**  \n",
    "\n",
    "<u>Heat Map</u>: Colored cells convey the relative magnitude of each number"
   ]
  },
  {
   "cell_type": "markdown",
   "id": "f0f58293",
   "metadata": {},
   "source": [
    "## Design Best Practices\n",
    "\n",
    "1. Make sure your message is clear.  \n",
    "&nbsp;&nbsp;&nbsp;&nbsp;- Clear title  \n",
    "&nbsp;&nbsp;&nbsp;&nbsp;- Draw attention to important parts of data (using order, color, text, box, etc.)    \n",
    "\n",
    "2. Remove the clutter from your chart.  \n",
    "&nbsp;&nbsp;&nbsp;&nbsp;- Consider whether or not you need to use distracting labels, colors, etc.  \n",
    "\n",
    "3. Don't present data in a way that is misleading or incomplete.\n",
    "\n",
    "4. Never use 3D\n",
    "\n",
    "5. A secondary y-axis is generally not a good idea"
   ]
  },
  {
   "cell_type": "markdown",
   "id": "1d66aa61",
   "metadata": {},
   "source": [
    "## Do's and Don'ts\n",
    "\n",
    "### Do:\n",
    "1. Keep the visualization simple.  \n",
    "&nbsp;&nbsp;&nbsp;&nbsp;- Minimize colors and other elements that don't direclty relate to the data of interest.  \n",
    "&nbsp;&nbsp;&nbsp;&nbsp;- Show full scale graph with a zoom as needed.  \n",
    "&nbsp;&nbsp;&nbsp;&nbsp;- Grab attention and make your point in under 5 seconds.  \n",
    "&nbsp;&nbsp;&nbsp;&nbsp;- Include clear labels and titles to explain important chart elements.  \n",
    "\n",
    "2. Pay attention to how color is used.  \n",
    "\n",
    "3. Consider the intention of the visualization.  \n",
    "&nbsp;&nbsp;&nbsp;&nbsp;- **Presented Visualizations** focus on conclusions and specific, key highlights. They are as simplified as possible.  \n",
    "&nbsp;&nbsp;&nbsp;&nbsp;- **Distributed Visualizations** provide both context *and* conclusions. They focus on the story behind the data set.  \n",
    "\n",
    "4. Check that your visualization is understandable.  \n",
    "&nbsp;&nbsp;&nbsp;&nbsp;- Make sure labels are accurate, graphs are to scale, and the data displayed adds up to the total (if you're using a pie chart).  \n",
    "&nbsp;&nbsp;&nbsp;&nbsp;- Ask someone unfamiliar with the data what they understand and if everything makes sense.  \n",
    "\n",
    "### Don't:  \n",
    "1. Don't intentionally misrepresent data.  \n",
    "&nbsp;&nbsp;&nbsp;&nbsp;- An axis that starts at a place that exaggerates differences  \n",
    "&nbsp;&nbsp;&nbsp;&nbsp;- Uneven intervals between numbers  \n",
    "&nbsp;&nbsp;&nbsp;&nbsp;- Inaccurate or inconsistent scales on size comparisons  \n",
    "&nbsp;&nbsp;&nbsp;&nbsp;- Colors inappropriate to the data being described  \n",
    "\n",
    "2. Don't try to present too much information.  \n",
    "&nbsp;&nbsp;&nbsp;&nbsp;- More than 6 colors  \n",
    "&nbsp;&nbsp;&nbsp;&nbsp;- Crowding that prevents quickly differentiating data points  \n",
    "&nbsp;&nbsp;&nbsp;&nbsp;- Multiple text boxes needed to explain data points  \n",
    "\n",
    "3. Don't but bad data into a visualization to make it look better.  \n",
    "\n",
    "4. Don't assume that all visualization methods are created equal.  "
   ]
  },
  {
   "cell_type": "markdown",
   "id": "093c5afc",
   "metadata": {},
   "source": [
    "# 📊 Plotting Library Cheat Sheet\n",
    "\n",
    "| Feature            | Matplotlib   | Seaborn       | Plotly          |\n",
    "|--------------------|--------------|----------------|------------------|\n",
    "| Interactivity      | ❌           | ❌             | ✅               |\n",
    "| Ease of use        | ⚠️ (Verbose) | ✅             | ✅               |\n",
    "| Styling defaults   | ❌           | ✅             | ✅               |\n",
    "| Customization      | ✅✅✅        | ✅             | ⚠️ (limited low-level) |\n",
    "| Good for EDA       | ⚠️           | ✅✅           | ✅               |\n",
    "| Best use case      | Publications | Data analysis | Dashboards/presentations |\n"
   ]
  }
 ],
 "metadata": {
  "kernelspec": {
   "display_name": "Python 3",
   "language": "python",
   "name": "python3"
  },
  "language_info": {
   "codemirror_mode": {
    "name": "ipython",
    "version": 3
   },
   "file_extension": ".py",
   "mimetype": "text/x-python",
   "name": "python",
   "nbconvert_exporter": "python",
   "pygments_lexer": "ipython3",
   "version": "3.13.3"
  }
 },
 "nbformat": 4,
 "nbformat_minor": 5
}
